{
  "nbformat": 4,
  "nbformat_minor": 0,
  "metadata": {
    "colab": {
      "provenance": []
    },
    "kernelspec": {
      "name": "python3",
      "display_name": "Python 3"
    },
    "language_info": {
      "name": "python"
    }
  },
  "cells": [
    {
      "cell_type": "code",
      "execution_count": null,
      "metadata": {
        "id": "nZQm_Fwx0iz7"
      },
      "outputs": [],
      "source": [
        "import pandas as pd\n",
        "from sklearn.model_selection import train_test_split\n",
        "from sklearn import metrics\n",
        "from sklearn.svm import LinearSVC\n",
        "import matplotlib.pyplot as plt\n",
        "import numpy as np\n",
        "import seaborn as sns\n",
        "import wave"
      ]
    },
    {
      "cell_type": "code",
      "source": [
        "data=pd.read_csv(\"/content/training data.csv\")\n",
        "data.head()"
      ],
      "metadata": {
        "colab": {
          "base_uri": "https://localhost:8080/",
          "height": 300
        },
        "id": "a5eGM1zW16iu",
        "outputId": "f4d5ffa6-4e44-4bb3-f273-af5f67a883d0"
      },
      "execution_count": null,
      "outputs": [
        {
          "output_type": "execute_result",
          "data": {
            "text/plain": [
              "   meanfreq        sd    median       Q25       Q75       IQR       skew  \\\n",
              "0  0.059781  0.064241  0.032027  0.015071  0.090193  0.075122  12.863462   \n",
              "1  0.066009  0.067310  0.040229  0.019414  0.092666  0.073252  22.423285   \n",
              "2  0.077316  0.083829  0.036718  0.008701  0.131908  0.123207  30.757155   \n",
              "3  0.151228  0.072111  0.158011  0.096582  0.207955  0.111374   1.232831   \n",
              "4  0.135120  0.079146  0.124656  0.078720  0.206045  0.127325   1.101174   \n",
              "\n",
              "          kurt    sp.ent       sfm  ...  centroid   meanfun    minfun  \\\n",
              "0   274.402906  0.893369  0.491918  ...  0.059781  0.084279  0.015702   \n",
              "1   634.613855  0.892193  0.513724  ...  0.066009  0.107937  0.015826   \n",
              "2  1024.927705  0.846389  0.478905  ...  0.077316  0.098706  0.015656   \n",
              "3     4.177296  0.963322  0.727232  ...  0.151228  0.088965  0.017798   \n",
              "4     4.333713  0.971955  0.783568  ...  0.135120  0.106398  0.016931   \n",
              "\n",
              "     maxfun   meandom    mindom    maxdom   dfrange   modindx  label  \n",
              "0  0.275862  0.007812  0.007812  0.007812  0.000000  0.000000   male  \n",
              "1  0.250000  0.009014  0.007812  0.054688  0.046875  0.052632   male  \n",
              "2  0.271186  0.007990  0.007812  0.015625  0.007812  0.046512   male  \n",
              "3  0.250000  0.201497  0.007812  0.562500  0.554688  0.247119   male  \n",
              "4  0.266667  0.712812  0.007812  5.484375  5.476562  0.208274   male  \n",
              "\n",
              "[5 rows x 21 columns]"
            ],
            "text/html": [
              "\n",
              "  <div id=\"df-a17e1890-2290-453f-a0e8-50e0912a26c6\">\n",
              "    <div class=\"colab-df-container\">\n",
              "      <div>\n",
              "<style scoped>\n",
              "    .dataframe tbody tr th:only-of-type {\n",
              "        vertical-align: middle;\n",
              "    }\n",
              "\n",
              "    .dataframe tbody tr th {\n",
              "        vertical-align: top;\n",
              "    }\n",
              "\n",
              "    .dataframe thead th {\n",
              "        text-align: right;\n",
              "    }\n",
              "</style>\n",
              "<table border=\"1\" class=\"dataframe\">\n",
              "  <thead>\n",
              "    <tr style=\"text-align: right;\">\n",
              "      <th></th>\n",
              "      <th>meanfreq</th>\n",
              "      <th>sd</th>\n",
              "      <th>median</th>\n",
              "      <th>Q25</th>\n",
              "      <th>Q75</th>\n",
              "      <th>IQR</th>\n",
              "      <th>skew</th>\n",
              "      <th>kurt</th>\n",
              "      <th>sp.ent</th>\n",
              "      <th>sfm</th>\n",
              "      <th>...</th>\n",
              "      <th>centroid</th>\n",
              "      <th>meanfun</th>\n",
              "      <th>minfun</th>\n",
              "      <th>maxfun</th>\n",
              "      <th>meandom</th>\n",
              "      <th>mindom</th>\n",
              "      <th>maxdom</th>\n",
              "      <th>dfrange</th>\n",
              "      <th>modindx</th>\n",
              "      <th>label</th>\n",
              "    </tr>\n",
              "  </thead>\n",
              "  <tbody>\n",
              "    <tr>\n",
              "      <th>0</th>\n",
              "      <td>0.059781</td>\n",
              "      <td>0.064241</td>\n",
              "      <td>0.032027</td>\n",
              "      <td>0.015071</td>\n",
              "      <td>0.090193</td>\n",
              "      <td>0.075122</td>\n",
              "      <td>12.863462</td>\n",
              "      <td>274.402906</td>\n",
              "      <td>0.893369</td>\n",
              "      <td>0.491918</td>\n",
              "      <td>...</td>\n",
              "      <td>0.059781</td>\n",
              "      <td>0.084279</td>\n",
              "      <td>0.015702</td>\n",
              "      <td>0.275862</td>\n",
              "      <td>0.007812</td>\n",
              "      <td>0.007812</td>\n",
              "      <td>0.007812</td>\n",
              "      <td>0.000000</td>\n",
              "      <td>0.000000</td>\n",
              "      <td>male</td>\n",
              "    </tr>\n",
              "    <tr>\n",
              "      <th>1</th>\n",
              "      <td>0.066009</td>\n",
              "      <td>0.067310</td>\n",
              "      <td>0.040229</td>\n",
              "      <td>0.019414</td>\n",
              "      <td>0.092666</td>\n",
              "      <td>0.073252</td>\n",
              "      <td>22.423285</td>\n",
              "      <td>634.613855</td>\n",
              "      <td>0.892193</td>\n",
              "      <td>0.513724</td>\n",
              "      <td>...</td>\n",
              "      <td>0.066009</td>\n",
              "      <td>0.107937</td>\n",
              "      <td>0.015826</td>\n",
              "      <td>0.250000</td>\n",
              "      <td>0.009014</td>\n",
              "      <td>0.007812</td>\n",
              "      <td>0.054688</td>\n",
              "      <td>0.046875</td>\n",
              "      <td>0.052632</td>\n",
              "      <td>male</td>\n",
              "    </tr>\n",
              "    <tr>\n",
              "      <th>2</th>\n",
              "      <td>0.077316</td>\n",
              "      <td>0.083829</td>\n",
              "      <td>0.036718</td>\n",
              "      <td>0.008701</td>\n",
              "      <td>0.131908</td>\n",
              "      <td>0.123207</td>\n",
              "      <td>30.757155</td>\n",
              "      <td>1024.927705</td>\n",
              "      <td>0.846389</td>\n",
              "      <td>0.478905</td>\n",
              "      <td>...</td>\n",
              "      <td>0.077316</td>\n",
              "      <td>0.098706</td>\n",
              "      <td>0.015656</td>\n",
              "      <td>0.271186</td>\n",
              "      <td>0.007990</td>\n",
              "      <td>0.007812</td>\n",
              "      <td>0.015625</td>\n",
              "      <td>0.007812</td>\n",
              "      <td>0.046512</td>\n",
              "      <td>male</td>\n",
              "    </tr>\n",
              "    <tr>\n",
              "      <th>3</th>\n",
              "      <td>0.151228</td>\n",
              "      <td>0.072111</td>\n",
              "      <td>0.158011</td>\n",
              "      <td>0.096582</td>\n",
              "      <td>0.207955</td>\n",
              "      <td>0.111374</td>\n",
              "      <td>1.232831</td>\n",
              "      <td>4.177296</td>\n",
              "      <td>0.963322</td>\n",
              "      <td>0.727232</td>\n",
              "      <td>...</td>\n",
              "      <td>0.151228</td>\n",
              "      <td>0.088965</td>\n",
              "      <td>0.017798</td>\n",
              "      <td>0.250000</td>\n",
              "      <td>0.201497</td>\n",
              "      <td>0.007812</td>\n",
              "      <td>0.562500</td>\n",
              "      <td>0.554688</td>\n",
              "      <td>0.247119</td>\n",
              "      <td>male</td>\n",
              "    </tr>\n",
              "    <tr>\n",
              "      <th>4</th>\n",
              "      <td>0.135120</td>\n",
              "      <td>0.079146</td>\n",
              "      <td>0.124656</td>\n",
              "      <td>0.078720</td>\n",
              "      <td>0.206045</td>\n",
              "      <td>0.127325</td>\n",
              "      <td>1.101174</td>\n",
              "      <td>4.333713</td>\n",
              "      <td>0.971955</td>\n",
              "      <td>0.783568</td>\n",
              "      <td>...</td>\n",
              "      <td>0.135120</td>\n",
              "      <td>0.106398</td>\n",
              "      <td>0.016931</td>\n",
              "      <td>0.266667</td>\n",
              "      <td>0.712812</td>\n",
              "      <td>0.007812</td>\n",
              "      <td>5.484375</td>\n",
              "      <td>5.476562</td>\n",
              "      <td>0.208274</td>\n",
              "      <td>male</td>\n",
              "    </tr>\n",
              "  </tbody>\n",
              "</table>\n",
              "<p>5 rows × 21 columns</p>\n",
              "</div>\n",
              "      <button class=\"colab-df-convert\" onclick=\"convertToInteractive('df-a17e1890-2290-453f-a0e8-50e0912a26c6')\"\n",
              "              title=\"Convert this dataframe to an interactive table.\"\n",
              "              style=\"display:none;\">\n",
              "        \n",
              "  <svg xmlns=\"http://www.w3.org/2000/svg\" height=\"24px\"viewBox=\"0 0 24 24\"\n",
              "       width=\"24px\">\n",
              "    <path d=\"M0 0h24v24H0V0z\" fill=\"none\"/>\n",
              "    <path d=\"M18.56 5.44l.94 2.06.94-2.06 2.06-.94-2.06-.94-.94-2.06-.94 2.06-2.06.94zm-11 1L8.5 8.5l.94-2.06 2.06-.94-2.06-.94L8.5 2.5l-.94 2.06-2.06.94zm10 10l.94 2.06.94-2.06 2.06-.94-2.06-.94-.94-2.06-.94 2.06-2.06.94z\"/><path d=\"M17.41 7.96l-1.37-1.37c-.4-.4-.92-.59-1.43-.59-.52 0-1.04.2-1.43.59L10.3 9.45l-7.72 7.72c-.78.78-.78 2.05 0 2.83L4 21.41c.39.39.9.59 1.41.59.51 0 1.02-.2 1.41-.59l7.78-7.78 2.81-2.81c.8-.78.8-2.07 0-2.86zM5.41 20L4 18.59l7.72-7.72 1.47 1.35L5.41 20z\"/>\n",
              "  </svg>\n",
              "      </button>\n",
              "      \n",
              "  <style>\n",
              "    .colab-df-container {\n",
              "      display:flex;\n",
              "      flex-wrap:wrap;\n",
              "      gap: 12px;\n",
              "    }\n",
              "\n",
              "    .colab-df-convert {\n",
              "      background-color: #E8F0FE;\n",
              "      border: none;\n",
              "      border-radius: 50%;\n",
              "      cursor: pointer;\n",
              "      display: none;\n",
              "      fill: #1967D2;\n",
              "      height: 32px;\n",
              "      padding: 0 0 0 0;\n",
              "      width: 32px;\n",
              "    }\n",
              "\n",
              "    .colab-df-convert:hover {\n",
              "      background-color: #E2EBFA;\n",
              "      box-shadow: 0px 1px 2px rgba(60, 64, 67, 0.3), 0px 1px 3px 1px rgba(60, 64, 67, 0.15);\n",
              "      fill: #174EA6;\n",
              "    }\n",
              "\n",
              "    [theme=dark] .colab-df-convert {\n",
              "      background-color: #3B4455;\n",
              "      fill: #D2E3FC;\n",
              "    }\n",
              "\n",
              "    [theme=dark] .colab-df-convert:hover {\n",
              "      background-color: #434B5C;\n",
              "      box-shadow: 0px 1px 3px 1px rgba(0, 0, 0, 0.15);\n",
              "      filter: drop-shadow(0px 1px 2px rgba(0, 0, 0, 0.3));\n",
              "      fill: #FFFFFF;\n",
              "    }\n",
              "  </style>\n",
              "\n",
              "      <script>\n",
              "        const buttonEl =\n",
              "          document.querySelector('#df-a17e1890-2290-453f-a0e8-50e0912a26c6 button.colab-df-convert');\n",
              "        buttonEl.style.display =\n",
              "          google.colab.kernel.accessAllowed ? 'block' : 'none';\n",
              "\n",
              "        async function convertToInteractive(key) {\n",
              "          const element = document.querySelector('#df-a17e1890-2290-453f-a0e8-50e0912a26c6');\n",
              "          const dataTable =\n",
              "            await google.colab.kernel.invokeFunction('convertToInteractive',\n",
              "                                                     [key], {});\n",
              "          if (!dataTable) return;\n",
              "\n",
              "          const docLinkHtml = 'Like what you see? Visit the ' +\n",
              "            '<a target=\"_blank\" href=https://colab.research.google.com/notebooks/data_table.ipynb>data table notebook</a>'\n",
              "            + ' to learn more about interactive tables.';\n",
              "          element.innerHTML = '';\n",
              "          dataTable['output_type'] = 'display_data';\n",
              "          await google.colab.output.renderOutput(dataTable, element);\n",
              "          const docLink = document.createElement('div');\n",
              "          docLink.innerHTML = docLinkHtml;\n",
              "          element.appendChild(docLink);\n",
              "        }\n",
              "      </script>\n",
              "    </div>\n",
              "  </div>\n",
              "  "
            ]
          },
          "metadata": {},
          "execution_count": 61
        }
      ]
    },
    {
      "cell_type": "code",
      "source": [
        "from sklearn.preprocessing import LabelEncoder,OneHotEncoder\n",
        "label_encoder = LabelEncoder()\n",
        " \n",
        "data['label']= label_encoder.fit_transform(data['label'])\n",
        "data.head(100)"
      ],
      "metadata": {
        "colab": {
          "base_uri": "https://localhost:8080/",
          "height": 488
        },
        "id": "eU622CSD16lm",
        "outputId": "7b0707cc-14d9-4feb-a0f1-73c533081e03"
      },
      "execution_count": null,
      "outputs": [
        {
          "output_type": "execute_result",
          "data": {
            "text/plain": [
              "    meanfreq        sd    median       Q25       Q75       IQR       skew  \\\n",
              "0   0.059781  0.064241  0.032027  0.015071  0.090193  0.075122  12.863462   \n",
              "1   0.066009  0.067310  0.040229  0.019414  0.092666  0.073252  22.423285   \n",
              "2   0.077316  0.083829  0.036718  0.008701  0.131908  0.123207  30.757155   \n",
              "3   0.151228  0.072111  0.158011  0.096582  0.207955  0.111374   1.232831   \n",
              "4   0.135120  0.079146  0.124656  0.078720  0.206045  0.127325   1.101174   \n",
              "..       ...       ...       ...       ...       ...       ...        ...   \n",
              "95  0.107009  0.081313  0.102788  0.025164  0.188941  0.163778  24.705118   \n",
              "96  0.119006  0.083083  0.106214  0.045520  0.200087  0.154566  26.879675   \n",
              "97  0.082526  0.080918  0.061245  0.008307  0.129657  0.121350  15.891002   \n",
              "98  0.130674  0.082882  0.116964  0.082283  0.204857  0.122574  27.705119   \n",
              "99  0.096725  0.083800  0.086859  0.017592  0.173168  0.155576  20.307146   \n",
              "\n",
              "           kurt    sp.ent       sfm  ...  centroid   meanfun    minfun  \\\n",
              "0    274.402906  0.893369  0.491918  ...  0.059781  0.084279  0.015702   \n",
              "1    634.613855  0.892193  0.513724  ...  0.066009  0.107937  0.015826   \n",
              "2   1024.927705  0.846389  0.478905  ...  0.077316  0.098706  0.015656   \n",
              "3      4.177296  0.963322  0.727232  ...  0.151228  0.088965  0.017798   \n",
              "4      4.333713  0.971955  0.783568  ...  0.135120  0.106398  0.016931   \n",
              "..          ...       ...       ...  ...       ...       ...       ...   \n",
              "95   714.696895  0.891348  0.576778  ...  0.107009  0.075907  0.016000   \n",
              "96   812.204086  0.883926  0.604149  ...  0.119006  0.092961  0.016360   \n",
              "97   402.932610  0.906001  0.561684  ...  0.082526  0.087384  0.015810   \n",
              "98   896.650347  0.900403  0.584464  ...  0.130674  0.090380  0.016615   \n",
              "99   577.369776  0.939914  0.687643  ...  0.096725  0.100796  0.016393   \n",
              "\n",
              "      maxfun   meandom    mindom    maxdom   dfrange   modindx  label  \n",
              "0   0.275862  0.007812  0.007812  0.007812  0.000000  0.000000      1  \n",
              "1   0.250000  0.009014  0.007812  0.054688  0.046875  0.052632      1  \n",
              "2   0.271186  0.007990  0.007812  0.015625  0.007812  0.046512      1  \n",
              "3   0.250000  0.201497  0.007812  0.562500  0.554688  0.247119      1  \n",
              "4   0.266667  0.712812  0.007812  5.484375  5.476562  0.208274      1  \n",
              "..       ...       ...       ...       ...       ...       ...    ...  \n",
              "95  0.222222  0.007812  0.007812  0.007812  0.000000  0.000000      1  \n",
              "96  0.175824  0.007812  0.007812  0.007812  0.000000  0.000000      1  \n",
              "97  0.271186  0.007979  0.007812  0.015625  0.007812  0.043478      1  \n",
              "98  0.238806  0.007812  0.007812  0.007812  0.000000  0.000000      1  \n",
              "99  0.271186  0.008185  0.007812  0.023438  0.015625  0.048780      1  \n",
              "\n",
              "[100 rows x 21 columns]"
            ],
            "text/html": [
              "\n",
              "  <div id=\"df-bf3ed57e-5a2c-42e8-a1c8-ce88a17b4a5e\">\n",
              "    <div class=\"colab-df-container\">\n",
              "      <div>\n",
              "<style scoped>\n",
              "    .dataframe tbody tr th:only-of-type {\n",
              "        vertical-align: middle;\n",
              "    }\n",
              "\n",
              "    .dataframe tbody tr th {\n",
              "        vertical-align: top;\n",
              "    }\n",
              "\n",
              "    .dataframe thead th {\n",
              "        text-align: right;\n",
              "    }\n",
              "</style>\n",
              "<table border=\"1\" class=\"dataframe\">\n",
              "  <thead>\n",
              "    <tr style=\"text-align: right;\">\n",
              "      <th></th>\n",
              "      <th>meanfreq</th>\n",
              "      <th>sd</th>\n",
              "      <th>median</th>\n",
              "      <th>Q25</th>\n",
              "      <th>Q75</th>\n",
              "      <th>IQR</th>\n",
              "      <th>skew</th>\n",
              "      <th>kurt</th>\n",
              "      <th>sp.ent</th>\n",
              "      <th>sfm</th>\n",
              "      <th>...</th>\n",
              "      <th>centroid</th>\n",
              "      <th>meanfun</th>\n",
              "      <th>minfun</th>\n",
              "      <th>maxfun</th>\n",
              "      <th>meandom</th>\n",
              "      <th>mindom</th>\n",
              "      <th>maxdom</th>\n",
              "      <th>dfrange</th>\n",
              "      <th>modindx</th>\n",
              "      <th>label</th>\n",
              "    </tr>\n",
              "  </thead>\n",
              "  <tbody>\n",
              "    <tr>\n",
              "      <th>0</th>\n",
              "      <td>0.059781</td>\n",
              "      <td>0.064241</td>\n",
              "      <td>0.032027</td>\n",
              "      <td>0.015071</td>\n",
              "      <td>0.090193</td>\n",
              "      <td>0.075122</td>\n",
              "      <td>12.863462</td>\n",
              "      <td>274.402906</td>\n",
              "      <td>0.893369</td>\n",
              "      <td>0.491918</td>\n",
              "      <td>...</td>\n",
              "      <td>0.059781</td>\n",
              "      <td>0.084279</td>\n",
              "      <td>0.015702</td>\n",
              "      <td>0.275862</td>\n",
              "      <td>0.007812</td>\n",
              "      <td>0.007812</td>\n",
              "      <td>0.007812</td>\n",
              "      <td>0.000000</td>\n",
              "      <td>0.000000</td>\n",
              "      <td>1</td>\n",
              "    </tr>\n",
              "    <tr>\n",
              "      <th>1</th>\n",
              "      <td>0.066009</td>\n",
              "      <td>0.067310</td>\n",
              "      <td>0.040229</td>\n",
              "      <td>0.019414</td>\n",
              "      <td>0.092666</td>\n",
              "      <td>0.073252</td>\n",
              "      <td>22.423285</td>\n",
              "      <td>634.613855</td>\n",
              "      <td>0.892193</td>\n",
              "      <td>0.513724</td>\n",
              "      <td>...</td>\n",
              "      <td>0.066009</td>\n",
              "      <td>0.107937</td>\n",
              "      <td>0.015826</td>\n",
              "      <td>0.250000</td>\n",
              "      <td>0.009014</td>\n",
              "      <td>0.007812</td>\n",
              "      <td>0.054688</td>\n",
              "      <td>0.046875</td>\n",
              "      <td>0.052632</td>\n",
              "      <td>1</td>\n",
              "    </tr>\n",
              "    <tr>\n",
              "      <th>2</th>\n",
              "      <td>0.077316</td>\n",
              "      <td>0.083829</td>\n",
              "      <td>0.036718</td>\n",
              "      <td>0.008701</td>\n",
              "      <td>0.131908</td>\n",
              "      <td>0.123207</td>\n",
              "      <td>30.757155</td>\n",
              "      <td>1024.927705</td>\n",
              "      <td>0.846389</td>\n",
              "      <td>0.478905</td>\n",
              "      <td>...</td>\n",
              "      <td>0.077316</td>\n",
              "      <td>0.098706</td>\n",
              "      <td>0.015656</td>\n",
              "      <td>0.271186</td>\n",
              "      <td>0.007990</td>\n",
              "      <td>0.007812</td>\n",
              "      <td>0.015625</td>\n",
              "      <td>0.007812</td>\n",
              "      <td>0.046512</td>\n",
              "      <td>1</td>\n",
              "    </tr>\n",
              "    <tr>\n",
              "      <th>3</th>\n",
              "      <td>0.151228</td>\n",
              "      <td>0.072111</td>\n",
              "      <td>0.158011</td>\n",
              "      <td>0.096582</td>\n",
              "      <td>0.207955</td>\n",
              "      <td>0.111374</td>\n",
              "      <td>1.232831</td>\n",
              "      <td>4.177296</td>\n",
              "      <td>0.963322</td>\n",
              "      <td>0.727232</td>\n",
              "      <td>...</td>\n",
              "      <td>0.151228</td>\n",
              "      <td>0.088965</td>\n",
              "      <td>0.017798</td>\n",
              "      <td>0.250000</td>\n",
              "      <td>0.201497</td>\n",
              "      <td>0.007812</td>\n",
              "      <td>0.562500</td>\n",
              "      <td>0.554688</td>\n",
              "      <td>0.247119</td>\n",
              "      <td>1</td>\n",
              "    </tr>\n",
              "    <tr>\n",
              "      <th>4</th>\n",
              "      <td>0.135120</td>\n",
              "      <td>0.079146</td>\n",
              "      <td>0.124656</td>\n",
              "      <td>0.078720</td>\n",
              "      <td>0.206045</td>\n",
              "      <td>0.127325</td>\n",
              "      <td>1.101174</td>\n",
              "      <td>4.333713</td>\n",
              "      <td>0.971955</td>\n",
              "      <td>0.783568</td>\n",
              "      <td>...</td>\n",
              "      <td>0.135120</td>\n",
              "      <td>0.106398</td>\n",
              "      <td>0.016931</td>\n",
              "      <td>0.266667</td>\n",
              "      <td>0.712812</td>\n",
              "      <td>0.007812</td>\n",
              "      <td>5.484375</td>\n",
              "      <td>5.476562</td>\n",
              "      <td>0.208274</td>\n",
              "      <td>1</td>\n",
              "    </tr>\n",
              "    <tr>\n",
              "      <th>...</th>\n",
              "      <td>...</td>\n",
              "      <td>...</td>\n",
              "      <td>...</td>\n",
              "      <td>...</td>\n",
              "      <td>...</td>\n",
              "      <td>...</td>\n",
              "      <td>...</td>\n",
              "      <td>...</td>\n",
              "      <td>...</td>\n",
              "      <td>...</td>\n",
              "      <td>...</td>\n",
              "      <td>...</td>\n",
              "      <td>...</td>\n",
              "      <td>...</td>\n",
              "      <td>...</td>\n",
              "      <td>...</td>\n",
              "      <td>...</td>\n",
              "      <td>...</td>\n",
              "      <td>...</td>\n",
              "      <td>...</td>\n",
              "      <td>...</td>\n",
              "    </tr>\n",
              "    <tr>\n",
              "      <th>95</th>\n",
              "      <td>0.107009</td>\n",
              "      <td>0.081313</td>\n",
              "      <td>0.102788</td>\n",
              "      <td>0.025164</td>\n",
              "      <td>0.188941</td>\n",
              "      <td>0.163778</td>\n",
              "      <td>24.705118</td>\n",
              "      <td>714.696895</td>\n",
              "      <td>0.891348</td>\n",
              "      <td>0.576778</td>\n",
              "      <td>...</td>\n",
              "      <td>0.107009</td>\n",
              "      <td>0.075907</td>\n",
              "      <td>0.016000</td>\n",
              "      <td>0.222222</td>\n",
              "      <td>0.007812</td>\n",
              "      <td>0.007812</td>\n",
              "      <td>0.007812</td>\n",
              "      <td>0.000000</td>\n",
              "      <td>0.000000</td>\n",
              "      <td>1</td>\n",
              "    </tr>\n",
              "    <tr>\n",
              "      <th>96</th>\n",
              "      <td>0.119006</td>\n",
              "      <td>0.083083</td>\n",
              "      <td>0.106214</td>\n",
              "      <td>0.045520</td>\n",
              "      <td>0.200087</td>\n",
              "      <td>0.154566</td>\n",
              "      <td>26.879675</td>\n",
              "      <td>812.204086</td>\n",
              "      <td>0.883926</td>\n",
              "      <td>0.604149</td>\n",
              "      <td>...</td>\n",
              "      <td>0.119006</td>\n",
              "      <td>0.092961</td>\n",
              "      <td>0.016360</td>\n",
              "      <td>0.175824</td>\n",
              "      <td>0.007812</td>\n",
              "      <td>0.007812</td>\n",
              "      <td>0.007812</td>\n",
              "      <td>0.000000</td>\n",
              "      <td>0.000000</td>\n",
              "      <td>1</td>\n",
              "    </tr>\n",
              "    <tr>\n",
              "      <th>97</th>\n",
              "      <td>0.082526</td>\n",
              "      <td>0.080918</td>\n",
              "      <td>0.061245</td>\n",
              "      <td>0.008307</td>\n",
              "      <td>0.129657</td>\n",
              "      <td>0.121350</td>\n",
              "      <td>15.891002</td>\n",
              "      <td>402.932610</td>\n",
              "      <td>0.906001</td>\n",
              "      <td>0.561684</td>\n",
              "      <td>...</td>\n",
              "      <td>0.082526</td>\n",
              "      <td>0.087384</td>\n",
              "      <td>0.015810</td>\n",
              "      <td>0.271186</td>\n",
              "      <td>0.007979</td>\n",
              "      <td>0.007812</td>\n",
              "      <td>0.015625</td>\n",
              "      <td>0.007812</td>\n",
              "      <td>0.043478</td>\n",
              "      <td>1</td>\n",
              "    </tr>\n",
              "    <tr>\n",
              "      <th>98</th>\n",
              "      <td>0.130674</td>\n",
              "      <td>0.082882</td>\n",
              "      <td>0.116964</td>\n",
              "      <td>0.082283</td>\n",
              "      <td>0.204857</td>\n",
              "      <td>0.122574</td>\n",
              "      <td>27.705119</td>\n",
              "      <td>896.650347</td>\n",
              "      <td>0.900403</td>\n",
              "      <td>0.584464</td>\n",
              "      <td>...</td>\n",
              "      <td>0.130674</td>\n",
              "      <td>0.090380</td>\n",
              "      <td>0.016615</td>\n",
              "      <td>0.238806</td>\n",
              "      <td>0.007812</td>\n",
              "      <td>0.007812</td>\n",
              "      <td>0.007812</td>\n",
              "      <td>0.000000</td>\n",
              "      <td>0.000000</td>\n",
              "      <td>1</td>\n",
              "    </tr>\n",
              "    <tr>\n",
              "      <th>99</th>\n",
              "      <td>0.096725</td>\n",
              "      <td>0.083800</td>\n",
              "      <td>0.086859</td>\n",
              "      <td>0.017592</td>\n",
              "      <td>0.173168</td>\n",
              "      <td>0.155576</td>\n",
              "      <td>20.307146</td>\n",
              "      <td>577.369776</td>\n",
              "      <td>0.939914</td>\n",
              "      <td>0.687643</td>\n",
              "      <td>...</td>\n",
              "      <td>0.096725</td>\n",
              "      <td>0.100796</td>\n",
              "      <td>0.016393</td>\n",
              "      <td>0.271186</td>\n",
              "      <td>0.008185</td>\n",
              "      <td>0.007812</td>\n",
              "      <td>0.023438</td>\n",
              "      <td>0.015625</td>\n",
              "      <td>0.048780</td>\n",
              "      <td>1</td>\n",
              "    </tr>\n",
              "  </tbody>\n",
              "</table>\n",
              "<p>100 rows × 21 columns</p>\n",
              "</div>\n",
              "      <button class=\"colab-df-convert\" onclick=\"convertToInteractive('df-bf3ed57e-5a2c-42e8-a1c8-ce88a17b4a5e')\"\n",
              "              title=\"Convert this dataframe to an interactive table.\"\n",
              "              style=\"display:none;\">\n",
              "        \n",
              "  <svg xmlns=\"http://www.w3.org/2000/svg\" height=\"24px\"viewBox=\"0 0 24 24\"\n",
              "       width=\"24px\">\n",
              "    <path d=\"M0 0h24v24H0V0z\" fill=\"none\"/>\n",
              "    <path d=\"M18.56 5.44l.94 2.06.94-2.06 2.06-.94-2.06-.94-.94-2.06-.94 2.06-2.06.94zm-11 1L8.5 8.5l.94-2.06 2.06-.94-2.06-.94L8.5 2.5l-.94 2.06-2.06.94zm10 10l.94 2.06.94-2.06 2.06-.94-2.06-.94-.94-2.06-.94 2.06-2.06.94z\"/><path d=\"M17.41 7.96l-1.37-1.37c-.4-.4-.92-.59-1.43-.59-.52 0-1.04.2-1.43.59L10.3 9.45l-7.72 7.72c-.78.78-.78 2.05 0 2.83L4 21.41c.39.39.9.59 1.41.59.51 0 1.02-.2 1.41-.59l7.78-7.78 2.81-2.81c.8-.78.8-2.07 0-2.86zM5.41 20L4 18.59l7.72-7.72 1.47 1.35L5.41 20z\"/>\n",
              "  </svg>\n",
              "      </button>\n",
              "      \n",
              "  <style>\n",
              "    .colab-df-container {\n",
              "      display:flex;\n",
              "      flex-wrap:wrap;\n",
              "      gap: 12px;\n",
              "    }\n",
              "\n",
              "    .colab-df-convert {\n",
              "      background-color: #E8F0FE;\n",
              "      border: none;\n",
              "      border-radius: 50%;\n",
              "      cursor: pointer;\n",
              "      display: none;\n",
              "      fill: #1967D2;\n",
              "      height: 32px;\n",
              "      padding: 0 0 0 0;\n",
              "      width: 32px;\n",
              "    }\n",
              "\n",
              "    .colab-df-convert:hover {\n",
              "      background-color: #E2EBFA;\n",
              "      box-shadow: 0px 1px 2px rgba(60, 64, 67, 0.3), 0px 1px 3px 1px rgba(60, 64, 67, 0.15);\n",
              "      fill: #174EA6;\n",
              "    }\n",
              "\n",
              "    [theme=dark] .colab-df-convert {\n",
              "      background-color: #3B4455;\n",
              "      fill: #D2E3FC;\n",
              "    }\n",
              "\n",
              "    [theme=dark] .colab-df-convert:hover {\n",
              "      background-color: #434B5C;\n",
              "      box-shadow: 0px 1px 3px 1px rgba(0, 0, 0, 0.15);\n",
              "      filter: drop-shadow(0px 1px 2px rgba(0, 0, 0, 0.3));\n",
              "      fill: #FFFFFF;\n",
              "    }\n",
              "  </style>\n",
              "\n",
              "      <script>\n",
              "        const buttonEl =\n",
              "          document.querySelector('#df-bf3ed57e-5a2c-42e8-a1c8-ce88a17b4a5e button.colab-df-convert');\n",
              "        buttonEl.style.display =\n",
              "          google.colab.kernel.accessAllowed ? 'block' : 'none';\n",
              "\n",
              "        async function convertToInteractive(key) {\n",
              "          const element = document.querySelector('#df-bf3ed57e-5a2c-42e8-a1c8-ce88a17b4a5e');\n",
              "          const dataTable =\n",
              "            await google.colab.kernel.invokeFunction('convertToInteractive',\n",
              "                                                     [key], {});\n",
              "          if (!dataTable) return;\n",
              "\n",
              "          const docLinkHtml = 'Like what you see? Visit the ' +\n",
              "            '<a target=\"_blank\" href=https://colab.research.google.com/notebooks/data_table.ipynb>data table notebook</a>'\n",
              "            + ' to learn more about interactive tables.';\n",
              "          element.innerHTML = '';\n",
              "          dataTable['output_type'] = 'display_data';\n",
              "          await google.colab.output.renderOutput(dataTable, element);\n",
              "          const docLink = document.createElement('div');\n",
              "          docLink.innerHTML = docLinkHtml;\n",
              "          element.appendChild(docLink);\n",
              "        }\n",
              "      </script>\n",
              "    </div>\n",
              "  </div>\n",
              "  "
            ]
          },
          "metadata": {},
          "execution_count": 62
        }
      ]
    },
    {
      "cell_type": "code",
      "source": [
        "print ( data.isnull().sum())"
      ],
      "metadata": {
        "id": "XPXvBe9J16ol",
        "colab": {
          "base_uri": "https://localhost:8080/"
        },
        "outputId": "c393588e-d4bf-4fb9-e7aa-9e04f100f959"
      },
      "execution_count": null,
      "outputs": [
        {
          "output_type": "stream",
          "name": "stdout",
          "text": [
            "meanfreq    0\n",
            "sd          0\n",
            "median      0\n",
            "Q25         0\n",
            "Q75         0\n",
            "IQR         0\n",
            "skew        0\n",
            "kurt        0\n",
            "sp.ent      0\n",
            "sfm         0\n",
            "mode        0\n",
            "centroid    0\n",
            "meanfun     0\n",
            "minfun      0\n",
            "maxfun      0\n",
            "meandom     0\n",
            "mindom      0\n",
            "maxdom      0\n",
            "dfrange     0\n",
            "modindx     0\n",
            "label       0\n",
            "dtype: int64\n"
          ]
        }
      ]
    },
    {
      "cell_type": "code",
      "source": [
        "index_no = data.columns.get_loc('meanfun')\n",
        "print(index_no)"
      ],
      "metadata": {
        "colab": {
          "base_uri": "https://localhost:8080/"
        },
        "id": "Lo6I4PdEZr7M",
        "outputId": "0bdfa72d-6a17-4d7e-bf21-bb4270d4a57a"
      },
      "execution_count": null,
      "outputs": [
        {
          "output_type": "stream",
          "name": "stdout",
          "text": [
            "12\n"
          ]
        }
      ]
    },
    {
      "cell_type": "code",
      "source": [
        "plt.subplots(4,5,figsize=(20,20))\n",
        "for k in range(1,21):\n",
        "    plt.subplot(4,5,k)\n",
        "    plt.title(data.columns[k-1])\n",
        "    sns.kdeplot(data.loc[data['label'] == 0, data.columns[k-1]], color= 'green', label='F')\n",
        "    sns.kdeplot(data.loc[data['label'] == 1, data.columns[k-1]], color= 'red', label='M')"
      ],
      "metadata": {
        "colab": {
          "base_uri": "https://localhost:8080/",
          "height": 1000
        },
        "id": "KnloNHIwTbeA",
        "outputId": "9765c048-0ac4-44c4-bebf-8a83a102efa9"
      },
      "execution_count": null,
      "outputs": [
        {
          "output_type": "display_data",
          "data": {
            "text/plain": [
              "<Figure size 1440x1440 with 20 Axes>"
            ],
            "image/png": "[encoded data removed]"
          },
          "metadata": {
            "needs_background": "light"
          }
        }
      ]
    },
    {
      "cell_type": "code",
      "source": [
        "for col in data.columns:\n",
        "    fig = plt.figure(figsize=(2,2))\n",
        "    plt.title(f\"{col}\")\n",
        "    data[col].hist()"
      ],
      "metadata": {
        "id": "6UG0NmcV16ro",
        "colab": {
          "base_uri": "https://localhost:8080/",
          "height": 1000
        },
        "outputId": "9493e42f-4ae6-494d-8f69-29a86225c822"
      },
      "execution_count": null,
      "outputs": [
        {
          "output_type": "stream",
          "name": "stderr",
          "text": [
            "<ipython-input-66-541bbe0b0f6e>:2: RuntimeWarning: More than 20 figures have been opened. Figures created through the pyplot interface (`matplotlib.pyplot.figure`) are retained until explicitly closed and may consume too much memory. (To control this warning, see the rcParam `figure.max_open_warning`).\n",
            "  fig = plt.figure(figsize=(2,2))\n"
          ]
        },
        {
          "output_type": "display_data",
          "data": {
            "text/plain": [
              "<Figure size 144x144 with 1 Axes>"
            ],
            "image/png": "[encoded data removed]"
          },
          "metadata": {
            "needs_background": "light"
          }
        },
        {
          "output_type": "display_data",
          "data": {
            "text/plain": [
              "<Figure size 144x144 with 1 Axes>"
            ],
            "image/png": "[encoded data removed]"
          },
          "metadata": {
            "needs_background": "light"
          }
        },
        {
          "output_type": "display_data",
          "data": {
            "text/plain": [
              "<Figure size 144x144 with 1 Axes>"
            ],
            "image/png": "[encoded data removed]"
          },
          "metadata": {
            "needs_background": "light"
          }
        },
        {
          "output_type": "display_data",
          "data": {
            "text/plain": [
              "<Figure size 144x144 with 1 Axes>"
            ],
            "image/png": "[encoded data removed]"
          },
          "metadata": {
            "needs_background": "light"
          }
        },
        {
          "output_type": "display_data",
          "data": {
            "text/plain": [
              "<Figure size 144x144 with 1 Axes>"
            ],
            "image/png": "[encoded data removed]"
          },
          "metadata": {
            "needs_background": "light"
          }
        },
        {
          "output_type": "display_data",
          "data": {
            "text/plain": [
              "<Figure size 144x144 with 1 Axes>"
            ],
            "image/png": "[encoded data removed]"
          },
          "metadata": {
            "needs_background": "light"
          }
        },
        {
          "output_type": "display_data",
          "data": {
            "text/plain": [
              "<Figure size 144x144 with 1 Axes>"
            ],
            "image/png": "[encoded data removed]"
          },
          "metadata": {
            "needs_background": "light"
          }
        },
        {
          "output_type": "display_data",
          "data": {
            "text/plain": [
              "<Figure size 144x144 with 1 Axes>"
            ],
            "image/png": "[encoded data removed]"
          },
          "metadata": {
            "needs_background": "light"
          }
        },
        {
          "output_type": "display_data",
          "data": {
            "text/plain": [
              "<Figure size 144x144 with 1 Axes>"
            ],
            "image/png": "[encoded data removed]"
          },
          "metadata": {
            "needs_background": "light"
          }
        },
        {
          "output_type": "display_data",
          "data": {
            "text/plain": [
              "<Figure size 144x144 with 1 Axes>"
            ],
            "image/png": "[encoded data removed]"
          },
          "metadata": {
            "needs_background": "light"
          }
        },
        {
          "output_type": "display_data",
          "data": {
            "text/plain": [
              "<Figure size 144x144 with 1 Axes>"
            ],
            "image/png": "[encoded data removed]"
          },
          "metadata": {
            "needs_background": "light"
          }
        },
        {
          "output_type": "display_data",
          "data": {
            "text/plain": [
              "<Figure size 144x144 with 1 Axes>"
            ],
            "image/png": "[encoded data removed]"
          },
          "metadata": {
            "needs_background": "light"
          }
        },
        {
          "output_type": "display_data",
          "data": {
            "text/plain": [
              "<Figure size 144x144 with 1 Axes>"
            ],
            "image/png": "[encoded data removed]"
          },
          "metadata": {
            "needs_background": "light"
          }
        },
        {
          "output_type": "display_data",
          "data": {
            "text/plain": [
              "<Figure size 144x144 with 1 Axes>"
            ],
            "image/png": "[encoded data removed]"
          },
          "metadata": {
            "needs_background": "light"
          }
        },
        {
          "output_type": "display_data",
          "data": {
            "text/plain": [
              "<Figure size 144x144 with 1 Axes>"
            ],
            "image/png": "[encoded data removed]"
          },
          "metadata": {
            "needs_background": "light"
          }
        },
        {
          "output_type": "display_data",
          "data": {
            "text/plain": [
              "<Figure size 144x144 with 1 Axes>"
            ],
            "image/png": "[encoded data removed]"
          },
          "metadata": {
            "needs_background": "light"
          }
        },
        {
          "output_type": "display_data",
          "data": {
            "text/plain": [
              "<Figure size 144x144 with 1 Axes>"
            ],
            "image/png": "[encoded data removed]"
          },
          "metadata": {
            "needs_background": "light"
          }
        },
        {
          "output_type": "display_data",
          "data": {
            "text/plain": [
              "<Figure size 144x144 with 1 Axes>"
            ],
            "image/png": "[encoded data removed]"
          },
          "metadata": {
            "needs_background": "light"
          }
        },
        {
          "output_type": "display_data",
          "data": {
            "text/plain": [
              "<Figure size 144x144 with 1 Axes>"
            ],
            "image/png": "[encoded data removed]"
          },
          "metadata": {
            "needs_background": "light"
          }
        },
        {
          "output_type": "display_data",
          "data": {
            "text/plain": [
              "<Figure size 144x144 with 1 Axes>"
            ],
            "image/png": "[encoded data removed]"
          },
          "metadata": {
            "needs_background": "light"
          }
        },
        {
          "output_type": "display_data",
          "data": {
            "text/plain": [
              "<Figure size 144x144 with 1 Axes>"
            ],
            "image/png": "[encoded data removed]"
          },
          "metadata": {
            "needs_background": "light"
          }
        }
      ]
    },
    {
      "cell_type": "code",
      "source": [
        "data.corr()"
      ],
      "metadata": {
        "id": "ZGWN5rxt16ui",
        "colab": {
          "base_uri": "https://localhost:8080/",
          "height": 801
        },
        "outputId": "bc9cf572-4d8f-482e-bcc8-07a399a0238b"
      },
      "execution_count": null,
      "outputs": [
        {
          "output_type": "execute_result",
          "data": {
            "text/plain": [
              "          meanfreq        sd    median       Q25       Q75       IQR  \\\n",
              "meanfreq  1.000000 -0.739039  0.925445  0.911416  0.740997 -0.627605   \n",
              "sd       -0.739039  1.000000 -0.562603 -0.846931 -0.161076  0.874660   \n",
              "median    0.925445 -0.562603  1.000000  0.774922  0.731849 -0.477352   \n",
              "Q25       0.911416 -0.846931  0.774922  1.000000  0.477140 -0.874189   \n",
              "Q75       0.740997 -0.161076  0.731849  0.477140  1.000000  0.009636   \n",
              "IQR      -0.627605  0.874660 -0.477352 -0.874189  0.009636  1.000000   \n",
              "skew     -0.322327  0.314597 -0.257407 -0.319475 -0.206339  0.249497   \n",
              "kurt     -0.316036  0.346241 -0.243382 -0.350182 -0.148881  0.316185   \n",
              "sp.ent   -0.601203  0.716620 -0.502005 -0.648126 -0.174905  0.640813   \n",
              "sfm      -0.784332  0.838086 -0.661690 -0.766875 -0.378198  0.663601   \n",
              "mode      0.687715 -0.529150  0.677433  0.591277  0.486857 -0.403764   \n",
              "centroid  1.000000 -0.739039  0.925445  0.911416  0.740997 -0.627605   \n",
              "meanfun   0.460844 -0.466281  0.414909  0.545035  0.155091 -0.534462   \n",
              "minfun    0.383937 -0.345609  0.337602  0.320994  0.258002 -0.222680   \n",
              "maxfun    0.274004 -0.129662  0.251328  0.199841  0.285584 -0.069588   \n",
              "meandom   0.536666 -0.482726  0.455943  0.467403  0.359181 -0.333362   \n",
              "mindom    0.229261 -0.357667  0.191169  0.302255 -0.023750 -0.357037   \n",
              "maxdom    0.519528 -0.482278  0.438919  0.459683  0.335114 -0.337877   \n",
              "dfrange   0.515570 -0.475999  0.435621  0.454394  0.335648 -0.331563   \n",
              "modindx  -0.216979  0.122660 -0.213298 -0.141377 -0.216475  0.041252   \n",
              "label    -0.337415  0.479539 -0.283919 -0.511455  0.066906  0.618916   \n",
              "\n",
              "              skew      kurt    sp.ent       sfm  ...  centroid   meanfun  \\\n",
              "meanfreq -0.322327 -0.316036 -0.601203 -0.784332  ...  1.000000  0.460844   \n",
              "sd        0.314597  0.346241  0.716620  0.838086  ... -0.739039 -0.466281   \n",
              "median   -0.257407 -0.243382 -0.502005 -0.661690  ...  0.925445  0.414909   \n",
              "Q25      -0.319475 -0.350182 -0.648126 -0.766875  ...  0.911416  0.545035   \n",
              "Q75      -0.206339 -0.148881 -0.174905 -0.378198  ...  0.740997  0.155091   \n",
              "IQR       0.249497  0.316185  0.640813  0.663601  ... -0.627605 -0.534462   \n",
              "skew      1.000000  0.977020 -0.195459  0.079694  ... -0.322327 -0.167668   \n",
              "kurt      0.977020  1.000000 -0.127644  0.109884  ... -0.316036 -0.194560   \n",
              "sp.ent   -0.195459 -0.127644  1.000000  0.866411  ... -0.601203 -0.513194   \n",
              "sfm       0.079694  0.109884  0.866411  1.000000  ... -0.784332 -0.421066   \n",
              "mode     -0.434859 -0.406722 -0.325298 -0.485913  ...  0.687715  0.324771   \n",
              "centroid -0.322327 -0.316036 -0.601203 -0.784332  ...  1.000000  0.460844   \n",
              "meanfun  -0.167668 -0.194560 -0.513194 -0.421066  ...  0.460844  1.000000   \n",
              "minfun   -0.216954 -0.203201 -0.305826 -0.362100  ...  0.383937  0.339387   \n",
              "maxfun   -0.080861 -0.045667 -0.120738 -0.192369  ...  0.274004  0.311950   \n",
              "meandom  -0.336848 -0.303234 -0.293562 -0.428442  ...  0.536666  0.270840   \n",
              "mindom   -0.061608 -0.103313 -0.294869 -0.289593  ...  0.229261  0.162163   \n",
              "maxdom   -0.305651 -0.274500 -0.324253 -0.436649  ...  0.519528  0.277982   \n",
              "dfrange  -0.304640 -0.272729 -0.319054 -0.431580  ...  0.515570  0.275154   \n",
              "modindx  -0.169325 -0.205539  0.198074  0.211477  ... -0.216979 -0.054858   \n",
              "label     0.036627  0.087195  0.490552  0.357499  ... -0.337415 -0.833921   \n",
              "\n",
              "            minfun    maxfun   meandom    mindom    maxdom   dfrange  \\\n",
              "meanfreq  0.383937  0.274004  0.536666  0.229261  0.519528  0.515570   \n",
              "sd       -0.345609 -0.129662 -0.482726 -0.357667 -0.482278 -0.475999   \n",
              "median    0.337602  0.251328  0.455943  0.191169  0.438919  0.435621   \n",
              "Q25       0.320994  0.199841  0.467403  0.302255  0.459683  0.454394   \n",
              "Q75       0.258002  0.285584  0.359181 -0.023750  0.335114  0.335648   \n",
              "IQR      -0.222680 -0.069588 -0.333362 -0.357037 -0.337877 -0.331563   \n",
              "skew     -0.216954 -0.080861 -0.336848 -0.061608 -0.305651 -0.304640   \n",
              "kurt     -0.203201 -0.045667 -0.303234 -0.103313 -0.274500 -0.272729   \n",
              "sp.ent   -0.305826 -0.120738 -0.293562 -0.294869 -0.324253 -0.319054   \n",
              "sfm      -0.362100 -0.192369 -0.428442 -0.289593 -0.436649 -0.431580   \n",
              "mode      0.385467  0.172329  0.491479  0.198150  0.477187  0.473775   \n",
              "centroid  0.383937  0.274004  0.536666  0.229261  0.519528  0.515570   \n",
              "meanfun   0.339387  0.311950  0.270840  0.162163  0.277982  0.275154   \n",
              "minfun    1.000000  0.213987  0.375979  0.082015  0.317860  0.316486   \n",
              "maxfun    0.213987  1.000000  0.337553 -0.243426  0.355390  0.359880   \n",
              "meandom   0.375979  0.337553  1.000000  0.099656  0.812838  0.811304   \n",
              "mindom    0.082015 -0.243426  0.099656  1.000000  0.026640  0.008666   \n",
              "maxdom    0.317860  0.355390  0.812838  0.026640  1.000000  0.999838   \n",
              "dfrange   0.316486  0.359880  0.811304  0.008666  0.999838  1.000000   \n",
              "modindx   0.002042 -0.363029 -0.180954  0.200212 -0.425531 -0.429266   \n",
              "label    -0.136692 -0.166461 -0.191067 -0.194974 -0.195657 -0.192213   \n",
              "\n",
              "           modindx     label  \n",
              "meanfreq -0.216979 -0.337415  \n",
              "sd        0.122660  0.479539  \n",
              "median   -0.213298 -0.283919  \n",
              "Q25      -0.141377 -0.511455  \n",
              "Q75      -0.216475  0.066906  \n",
              "IQR       0.041252  0.618916  \n",
              "skew     -0.169325  0.036627  \n",
              "kurt     -0.205539  0.087195  \n",
              "sp.ent    0.198074  0.490552  \n",
              "sfm       0.211477  0.357499  \n",
              "mode     -0.182344 -0.171775  \n",
              "centroid -0.216979 -0.337415  \n",
              "meanfun  -0.054858 -0.833921  \n",
              "minfun    0.002042 -0.136692  \n",
              "maxfun   -0.363029 -0.166461  \n",
              "meandom  -0.180954 -0.191067  \n",
              "mindom    0.200212 -0.194974  \n",
              "maxdom   -0.425531 -0.195657  \n",
              "dfrange  -0.429266 -0.192213  \n",
              "modindx   1.000000  0.030801  \n",
              "label     0.030801  1.000000  \n",
              "\n",
              "[21 rows x 21 columns]"
            ],
            "text/html": [
              "\n",
              "  <div id=\"df-a9666498-b5c4-4c60-ae87-2ed8d34fe0b9\">\n",
              "    <div class=\"colab-df-container\">\n",
              "      <div>\n",
              "<style scoped>\n",
              "    .dataframe tbody tr th:only-of-type {\n",
              "        vertical-align: middle;\n",
              "    }\n",
              "\n",
              "    .dataframe tbody tr th {\n",
              "        vertical-align: top;\n",
              "    }\n",
              "\n",
              "    .dataframe thead th {\n",
              "        text-align: right;\n",
              "    }\n",
              "</style>\n",
              "<table border=\"1\" class=\"dataframe\">\n",
              "  <thead>\n",
              "    <tr style=\"text-align: right;\">\n",
              "      <th></th>\n",
              "      <th>meanfreq</th>\n",
              "      <th>sd</th>\n",
              "      <th>median</th>\n",
              "      <th>Q25</th>\n",
              "      <th>Q75</th>\n",
              "      <th>IQR</th>\n",
              "      <th>skew</th>\n",
              "      <th>kurt</th>\n",
              "      <th>sp.ent</th>\n",
              "      <th>sfm</th>\n",
              "      <th>...</th>\n",
              "      <th>centroid</th>\n",
              "      <th>meanfun</th>\n",
              "      <th>minfun</th>\n",
              "      <th>maxfun</th>\n",
              "      <th>meandom</th>\n",
              "      <th>mindom</th>\n",
              "      <th>maxdom</th>\n",
              "      <th>dfrange</th>\n",
              "      <th>modindx</th>\n",
              "      <th>label</th>\n",
              "    </tr>\n",
              "  </thead>\n",
              "  <tbody>\n",
              "    <tr>\n",
              "      <th>meanfreq</th>\n",
              "      <td>1.000000</td>\n",
              "      <td>-0.739039</td>\n",
              "      <td>0.925445</td>\n",
              "      <td>0.911416</td>\n",
              "      <td>0.740997</td>\n",
              "      <td>-0.627605</td>\n",
              "      <td>-0.322327</td>\n",
              "      <td>-0.316036</td>\n",
              "      <td>-0.601203</td>\n",
              "      <td>-0.784332</td>\n",
              "      <td>...</td>\n",
              "      <td>1.000000</td>\n",
              "      <td>0.460844</td>\n",
              "      <td>0.383937</td>\n",
              "      <td>0.274004</td>\n",
              "      <td>0.536666</td>\n",
              "      <td>0.229261</td>\n",
              "      <td>0.519528</td>\n",
              "      <td>0.515570</td>\n",
              "      <td>-0.216979</td>\n",
              "      <td>-0.337415</td>\n",
              "    </tr>\n",
              "    <tr>\n",
              "      <th>sd</th>\n",
              "      <td>-0.739039</td>\n",
              "      <td>1.000000</td>\n",
              "      <td>-0.562603</td>\n",
              "      <td>-0.846931</td>\n",
              "      <td>-0.161076</td>\n",
              "      <td>0.874660</td>\n",
              "      <td>0.314597</td>\n",
              "      <td>0.346241</td>\n",
              "      <td>0.716620</td>\n",
              "      <td>0.838086</td>\n",
              "      <td>...</td>\n",
              "      <td>-0.739039</td>\n",
              "      <td>-0.466281</td>\n",
              "      <td>-0.345609</td>\n",
              "      <td>-0.129662</td>\n",
              "      <td>-0.482726</td>\n",
              "      <td>-0.357667</td>\n",
              "      <td>-0.482278</td>\n",
              "      <td>-0.475999</td>\n",
              "      <td>0.122660</td>\n",
              "      <td>0.479539</td>\n",
              "    </tr>\n",
              "    <tr>\n",
              "      <th>median</th>\n",
              "      <td>0.925445</td>\n",
              "      <td>-0.562603</td>\n",
              "      <td>1.000000</td>\n",
              "      <td>0.774922</td>\n",
              "      <td>0.731849</td>\n",
              "      <td>-0.477352</td>\n",
              "      <td>-0.257407</td>\n",
              "      <td>-0.243382</td>\n",
              "      <td>-0.502005</td>\n",
              "      <td>-0.661690</td>\n",
              "      <td>...</td>\n",
              "      <td>0.925445</td>\n",
              "      <td>0.414909</td>\n",
              "      <td>0.337602</td>\n",
              "      <td>0.251328</td>\n",
              "      <td>0.455943</td>\n",
              "      <td>0.191169</td>\n",
              "      <td>0.438919</td>\n",
              "      <td>0.435621</td>\n",
              "      <td>-0.213298</td>\n",
              "      <td>-0.283919</td>\n",
              "    </tr>\n",
              "    <tr>\n",
              "      <th>Q25</th>\n",
              "      <td>0.911416</td>\n",
              "      <td>-0.846931</td>\n",
              "      <td>0.774922</td>\n",
              "      <td>1.000000</td>\n",
              "      <td>0.477140</td>\n",
              "      <td>-0.874189</td>\n",
              "      <td>-0.319475</td>\n",
              "      <td>-0.350182</td>\n",
              "      <td>-0.648126</td>\n",
              "      <td>-0.766875</td>\n",
              "      <td>...</td>\n",
              "      <td>0.911416</td>\n",
              "      <td>0.545035</td>\n",
              "      <td>0.320994</td>\n",
              "      <td>0.199841</td>\n",
              "      <td>0.467403</td>\n",
              "      <td>0.302255</td>\n",
              "      <td>0.459683</td>\n",
              "      <td>0.454394</td>\n",
              "      <td>-0.141377</td>\n",
              "      <td>-0.511455</td>\n",
              "    </tr>\n",
              "    <tr>\n",
              "      <th>Q75</th>\n",
              "      <td>0.740997</td>\n",
              "      <td>-0.161076</td>\n",
              "      <td>0.731849</td>\n",
              "      <td>0.477140</td>\n",
              "      <td>1.000000</td>\n",
              "      <td>0.009636</td>\n",
              "      <td>-0.206339</td>\n",
              "      <td>-0.148881</td>\n",
              "      <td>-0.174905</td>\n",
              "      <td>-0.378198</td>\n",
              "      <td>...</td>\n",
              "      <td>0.740997</td>\n",
              "      <td>0.155091</td>\n",
              "      <td>0.258002</td>\n",
              "      <td>0.285584</td>\n",
              "      <td>0.359181</td>\n",
              "      <td>-0.023750</td>\n",
              "      <td>0.335114</td>\n",
              "      <td>0.335648</td>\n",
              "      <td>-0.216475</td>\n",
              "      <td>0.066906</td>\n",
              "    </tr>\n",
              "    <tr>\n",
              "      <th>IQR</th>\n",
              "      <td>-0.627605</td>\n",
              "      <td>0.874660</td>\n",
              "      <td>-0.477352</td>\n",
              "      <td>-0.874189</td>\n",
              "      <td>0.009636</td>\n",
              "      <td>1.000000</td>\n",
              "      <td>0.249497</td>\n",
              "      <td>0.316185</td>\n",
              "      <td>0.640813</td>\n",
              "      <td>0.663601</td>\n",
              "      <td>...</td>\n",
              "      <td>-0.627605</td>\n",
              "      <td>-0.534462</td>\n",
              "      <td>-0.222680</td>\n",
              "      <td>-0.069588</td>\n",
              "      <td>-0.333362</td>\n",
              "      <td>-0.357037</td>\n",
              "      <td>-0.337877</td>\n",
              "      <td>-0.331563</td>\n",
              "      <td>0.041252</td>\n",
              "      <td>0.618916</td>\n",
              "    </tr>\n",
              "    <tr>\n",
              "      <th>skew</th>\n",
              "      <td>-0.322327</td>\n",
              "      <td>0.314597</td>\n",
              "      <td>-0.257407</td>\n",
              "      <td>-0.319475</td>\n",
              "      <td>-0.206339</td>\n",
              "      <td>0.249497</td>\n",
              "      <td>1.000000</td>\n",
              "      <td>0.977020</td>\n",
              "      <td>-0.195459</td>\n",
              "      <td>0.079694</td>\n",
              "      <td>...</td>\n",
              "      <td>-0.322327</td>\n",
              "      <td>-0.167668</td>\n",
              "      <td>-0.216954</td>\n",
              "      <td>-0.080861</td>\n",
              "      <td>-0.336848</td>\n",
              "      <td>-0.061608</td>\n",
              "      <td>-0.305651</td>\n",
              "      <td>-0.304640</td>\n",
              "      <td>-0.169325</td>\n",
              "      <td>0.036627</td>\n",
              "    </tr>\n",
              "    <tr>\n",
              "      <th>kurt</th>\n",
              "      <td>-0.316036</td>\n",
              "      <td>0.346241</td>\n",
              "      <td>-0.243382</td>\n",
              "      <td>-0.350182</td>\n",
              "      <td>-0.148881</td>\n",
              "      <td>0.316185</td>\n",
              "      <td>0.977020</td>\n",
              "      <td>1.000000</td>\n",
              "      <td>-0.127644</td>\n",
              "      <td>0.109884</td>\n",
              "      <td>...</td>\n",
              "      <td>-0.316036</td>\n",
              "      <td>-0.194560</td>\n",
              "      <td>-0.203201</td>\n",
              "      <td>-0.045667</td>\n",
              "      <td>-0.303234</td>\n",
              "      <td>-0.103313</td>\n",
              "      <td>-0.274500</td>\n",
              "      <td>-0.272729</td>\n",
              "      <td>-0.205539</td>\n",
              "      <td>0.087195</td>\n",
              "    </tr>\n",
              "    <tr>\n",
              "      <th>sp.ent</th>\n",
              "      <td>-0.601203</td>\n",
              "      <td>0.716620</td>\n",
              "      <td>-0.502005</td>\n",
              "      <td>-0.648126</td>\n",
              "      <td>-0.174905</td>\n",
              "      <td>0.640813</td>\n",
              "      <td>-0.195459</td>\n",
              "      <td>-0.127644</td>\n",
              "      <td>1.000000</td>\n",
              "      <td>0.866411</td>\n",
              "      <td>...</td>\n",
              "      <td>-0.601203</td>\n",
              "      <td>-0.513194</td>\n",
              "      <td>-0.305826</td>\n",
              "      <td>-0.120738</td>\n",
              "      <td>-0.293562</td>\n",
              "      <td>-0.294869</td>\n",
              "      <td>-0.324253</td>\n",
              "      <td>-0.319054</td>\n",
              "      <td>0.198074</td>\n",
              "      <td>0.490552</td>\n",
              "    </tr>\n",
              "    <tr>\n",
              "      <th>sfm</th>\n",
              "      <td>-0.784332</td>\n",
              "      <td>0.838086</td>\n",
              "      <td>-0.661690</td>\n",
              "      <td>-0.766875</td>\n",
              "      <td>-0.378198</td>\n",
              "      <td>0.663601</td>\n",
              "      <td>0.079694</td>\n",
              "      <td>0.109884</td>\n",
              "      <td>0.866411</td>\n",
              "      <td>1.000000</td>\n",
              "      <td>...</td>\n",
              "      <td>-0.784332</td>\n",
              "      <td>-0.421066</td>\n",
              "      <td>-0.362100</td>\n",
              "      <td>-0.192369</td>\n",
              "      <td>-0.428442</td>\n",
              "      <td>-0.289593</td>\n",
              "      <td>-0.436649</td>\n",
              "      <td>-0.431580</td>\n",
              "      <td>0.211477</td>\n",
              "      <td>0.357499</td>\n",
              "    </tr>\n",
              "    <tr>\n",
              "      <th>mode</th>\n",
              "      <td>0.687715</td>\n",
              "      <td>-0.529150</td>\n",
              "      <td>0.677433</td>\n",
              "      <td>0.591277</td>\n",
              "      <td>0.486857</td>\n",
              "      <td>-0.403764</td>\n",
              "      <td>-0.434859</td>\n",
              "      <td>-0.406722</td>\n",
              "      <td>-0.325298</td>\n",
              "      <td>-0.485913</td>\n",
              "      <td>...</td>\n",
              "      <td>0.687715</td>\n",
              "      <td>0.324771</td>\n",
              "      <td>0.385467</td>\n",
              "      <td>0.172329</td>\n",
              "      <td>0.491479</td>\n",
              "      <td>0.198150</td>\n",
              "      <td>0.477187</td>\n",
              "      <td>0.473775</td>\n",
              "      <td>-0.182344</td>\n",
              "      <td>-0.171775</td>\n",
              "    </tr>\n",
              "    <tr>\n",
              "      <th>centroid</th>\n",
              "      <td>1.000000</td>\n",
              "      <td>-0.739039</td>\n",
              "      <td>0.925445</td>\n",
              "      <td>0.911416</td>\n",
              "      <td>0.740997</td>\n",
              "      <td>-0.627605</td>\n",
              "      <td>-0.322327</td>\n",
              "      <td>-0.316036</td>\n",
              "      <td>-0.601203</td>\n",
              "      <td>-0.784332</td>\n",
              "      <td>...</td>\n",
              "      <td>1.000000</td>\n",
              "      <td>0.460844</td>\n",
              "      <td>0.383937</td>\n",
              "      <td>0.274004</td>\n",
              "      <td>0.536666</td>\n",
              "      <td>0.229261</td>\n",
              "      <td>0.519528</td>\n",
              "      <td>0.515570</td>\n",
              "      <td>-0.216979</td>\n",
              "      <td>-0.337415</td>\n",
              "    </tr>\n",
              "    <tr>\n",
              "      <th>meanfun</th>\n",
              "      <td>0.460844</td>\n",
              "      <td>-0.466281</td>\n",
              "      <td>0.414909</td>\n",
              "      <td>0.545035</td>\n",
              "      <td>0.155091</td>\n",
              "      <td>-0.534462</td>\n",
              "      <td>-0.167668</td>\n",
              "      <td>-0.194560</td>\n",
              "      <td>-0.513194</td>\n",
              "      <td>-0.421066</td>\n",
              "      <td>...</td>\n",
              "      <td>0.460844</td>\n",
              "      <td>1.000000</td>\n",
              "      <td>0.339387</td>\n",
              "      <td>0.311950</td>\n",
              "      <td>0.270840</td>\n",
              "      <td>0.162163</td>\n",
              "      <td>0.277982</td>\n",
              "      <td>0.275154</td>\n",
              "      <td>-0.054858</td>\n",
              "      <td>-0.833921</td>\n",
              "    </tr>\n",
              "    <tr>\n",
              "      <th>minfun</th>\n",
              "      <td>0.383937</td>\n",
              "      <td>-0.345609</td>\n",
              "      <td>0.337602</td>\n",
              "      <td>0.320994</td>\n",
              "      <td>0.258002</td>\n",
              "      <td>-0.222680</td>\n",
              "      <td>-0.216954</td>\n",
              "      <td>-0.203201</td>\n",
              "      <td>-0.305826</td>\n",
              "      <td>-0.362100</td>\n",
              "      <td>...</td>\n",
              "      <td>0.383937</td>\n",
              "      <td>0.339387</td>\n",
              "      <td>1.000000</td>\n",
              "      <td>0.213987</td>\n",
              "      <td>0.375979</td>\n",
              "      <td>0.082015</td>\n",
              "      <td>0.317860</td>\n",
              "      <td>0.316486</td>\n",
              "      <td>0.002042</td>\n",
              "      <td>-0.136692</td>\n",
              "    </tr>\n",
              "    <tr>\n",
              "      <th>maxfun</th>\n",
              "      <td>0.274004</td>\n",
              "      <td>-0.129662</td>\n",
              "      <td>0.251328</td>\n",
              "      <td>0.199841</td>\n",
              "      <td>0.285584</td>\n",
              "      <td>-0.069588</td>\n",
              "      <td>-0.080861</td>\n",
              "      <td>-0.045667</td>\n",
              "      <td>-0.120738</td>\n",
              "      <td>-0.192369</td>\n",
              "      <td>...</td>\n",
              "      <td>0.274004</td>\n",
              "      <td>0.311950</td>\n",
              "      <td>0.213987</td>\n",
              "      <td>1.000000</td>\n",
              "      <td>0.337553</td>\n",
              "      <td>-0.243426</td>\n",
              "      <td>0.355390</td>\n",
              "      <td>0.359880</td>\n",
              "      <td>-0.363029</td>\n",
              "      <td>-0.166461</td>\n",
              "    </tr>\n",
              "    <tr>\n",
              "      <th>meandom</th>\n",
              "      <td>0.536666</td>\n",
              "      <td>-0.482726</td>\n",
              "      <td>0.455943</td>\n",
              "      <td>0.467403</td>\n",
              "      <td>0.359181</td>\n",
              "      <td>-0.333362</td>\n",
              "      <td>-0.336848</td>\n",
              "      <td>-0.303234</td>\n",
              "      <td>-0.293562</td>\n",
              "      <td>-0.428442</td>\n",
              "      <td>...</td>\n",
              "      <td>0.536666</td>\n",
              "      <td>0.270840</td>\n",
              "      <td>0.375979</td>\n",
              "      <td>0.337553</td>\n",
              "      <td>1.000000</td>\n",
              "      <td>0.099656</td>\n",
              "      <td>0.812838</td>\n",
              "      <td>0.811304</td>\n",
              "      <td>-0.180954</td>\n",
              "      <td>-0.191067</td>\n",
              "    </tr>\n",
              "    <tr>\n",
              "      <th>mindom</th>\n",
              "      <td>0.229261</td>\n",
              "      <td>-0.357667</td>\n",
              "      <td>0.191169</td>\n",
              "      <td>0.302255</td>\n",
              "      <td>-0.023750</td>\n",
              "      <td>-0.357037</td>\n",
              "      <td>-0.061608</td>\n",
              "      <td>-0.103313</td>\n",
              "      <td>-0.294869</td>\n",
              "      <td>-0.289593</td>\n",
              "      <td>...</td>\n",
              "      <td>0.229261</td>\n",
              "      <td>0.162163</td>\n",
              "      <td>0.082015</td>\n",
              "      <td>-0.243426</td>\n",
              "      <td>0.099656</td>\n",
              "      <td>1.000000</td>\n",
              "      <td>0.026640</td>\n",
              "      <td>0.008666</td>\n",
              "      <td>0.200212</td>\n",
              "      <td>-0.194974</td>\n",
              "    </tr>\n",
              "    <tr>\n",
              "      <th>maxdom</th>\n",
              "      <td>0.519528</td>\n",
              "      <td>-0.482278</td>\n",
              "      <td>0.438919</td>\n",
              "      <td>0.459683</td>\n",
              "      <td>0.335114</td>\n",
              "      <td>-0.337877</td>\n",
              "      <td>-0.305651</td>\n",
              "      <td>-0.274500</td>\n",
              "      <td>-0.324253</td>\n",
              "      <td>-0.436649</td>\n",
              "      <td>...</td>\n",
              "      <td>0.519528</td>\n",
              "      <td>0.277982</td>\n",
              "      <td>0.317860</td>\n",
              "      <td>0.355390</td>\n",
              "      <td>0.812838</td>\n",
              "      <td>0.026640</td>\n",
              "      <td>1.000000</td>\n",
              "      <td>0.999838</td>\n",
              "      <td>-0.425531</td>\n",
              "      <td>-0.195657</td>\n",
              "    </tr>\n",
              "    <tr>\n",
              "      <th>dfrange</th>\n",
              "      <td>0.515570</td>\n",
              "      <td>-0.475999</td>\n",
              "      <td>0.435621</td>\n",
              "      <td>0.454394</td>\n",
              "      <td>0.335648</td>\n",
              "      <td>-0.331563</td>\n",
              "      <td>-0.304640</td>\n",
              "      <td>-0.272729</td>\n",
              "      <td>-0.319054</td>\n",
              "      <td>-0.431580</td>\n",
              "      <td>...</td>\n",
              "      <td>0.515570</td>\n",
              "      <td>0.275154</td>\n",
              "      <td>0.316486</td>\n",
              "      <td>0.359880</td>\n",
              "      <td>0.811304</td>\n",
              "      <td>0.008666</td>\n",
              "      <td>0.999838</td>\n",
              "      <td>1.000000</td>\n",
              "      <td>-0.429266</td>\n",
              "      <td>-0.192213</td>\n",
              "    </tr>\n",
              "    <tr>\n",
              "      <th>modindx</th>\n",
              "      <td>-0.216979</td>\n",
              "      <td>0.122660</td>\n",
              "      <td>-0.213298</td>\n",
              "      <td>-0.141377</td>\n",
              "      <td>-0.216475</td>\n",
              "      <td>0.041252</td>\n",
              "      <td>-0.169325</td>\n",
              "      <td>-0.205539</td>\n",
              "      <td>0.198074</td>\n",
              "      <td>0.211477</td>\n",
              "      <td>...</td>\n",
              "      <td>-0.216979</td>\n",
              "      <td>-0.054858</td>\n",
              "      <td>0.002042</td>\n",
              "      <td>-0.363029</td>\n",
              "      <td>-0.180954</td>\n",
              "      <td>0.200212</td>\n",
              "      <td>-0.425531</td>\n",
              "      <td>-0.429266</td>\n",
              "      <td>1.000000</td>\n",
              "      <td>0.030801</td>\n",
              "    </tr>\n",
              "    <tr>\n",
              "      <th>label</th>\n",
              "      <td>-0.337415</td>\n",
              "      <td>0.479539</td>\n",
              "      <td>-0.283919</td>\n",
              "      <td>-0.511455</td>\n",
              "      <td>0.066906</td>\n",
              "      <td>0.618916</td>\n",
              "      <td>0.036627</td>\n",
              "      <td>0.087195</td>\n",
              "      <td>0.490552</td>\n",
              "      <td>0.357499</td>\n",
              "      <td>...</td>\n",
              "      <td>-0.337415</td>\n",
              "      <td>-0.833921</td>\n",
              "      <td>-0.136692</td>\n",
              "      <td>-0.166461</td>\n",
              "      <td>-0.191067</td>\n",
              "      <td>-0.194974</td>\n",
              "      <td>-0.195657</td>\n",
              "      <td>-0.192213</td>\n",
              "      <td>0.030801</td>\n",
              "      <td>1.000000</td>\n",
              "    </tr>\n",
              "  </tbody>\n",
              "</table>\n",
              "<p>21 rows × 21 columns</p>\n",
              "</div>\n",
              "      <button class=\"colab-df-convert\" onclick=\"convertToInteractive('df-a9666498-b5c4-4c60-ae87-2ed8d34fe0b9')\"\n",
              "              title=\"Convert this dataframe to an interactive table.\"\n",
              "              style=\"display:none;\">\n",
              "        \n",
              "  <svg xmlns=\"http://www.w3.org/2000/svg\" height=\"24px\"viewBox=\"0 0 24 24\"\n",
              "       width=\"24px\">\n",
              "    <path d=\"M0 0h24v24H0V0z\" fill=\"none\"/>\n",
              "    <path d=\"M18.56 5.44l.94 2.06.94-2.06 2.06-.94-2.06-.94-.94-2.06-.94 2.06-2.06.94zm-11 1L8.5 8.5l.94-2.06 2.06-.94-2.06-.94L8.5 2.5l-.94 2.06-2.06.94zm10 10l.94 2.06.94-2.06 2.06-.94-2.06-.94-.94-2.06-.94 2.06-2.06.94z\"/><path d=\"M17.41 7.96l-1.37-1.37c-.4-.4-.92-.59-1.43-.59-.52 0-1.04.2-1.43.59L10.3 9.45l-7.72 7.72c-.78.78-.78 2.05 0 2.83L4 21.41c.39.39.9.59 1.41.59.51 0 1.02-.2 1.41-.59l7.78-7.78 2.81-2.81c.8-.78.8-2.07 0-2.86zM5.41 20L4 18.59l7.72-7.72 1.47 1.35L5.41 20z\"/>\n",
              "  </svg>\n",
              "      </button>\n",
              "      \n",
              "  <style>\n",
              "    .colab-df-container {\n",
              "      display:flex;\n",
              "      flex-wrap:wrap;\n",
              "      gap: 12px;\n",
              "    }\n",
              "\n",
              "    .colab-df-convert {\n",
              "      background-color: #E8F0FE;\n",
              "      border: none;\n",
              "      border-radius: 50%;\n",
              "      cursor: pointer;\n",
              "      display: none;\n",
              "      fill: #1967D2;\n",
              "      height: 32px;\n",
              "      padding: 0 0 0 0;\n",
              "      width: 32px;\n",
              "    }\n",
              "\n",
              "    .colab-df-convert:hover {\n",
              "      background-color: #E2EBFA;\n",
              "      box-shadow: 0px 1px 2px rgba(60, 64, 67, 0.3), 0px 1px 3px 1px rgba(60, 64, 67, 0.15);\n",
              "      fill: #174EA6;\n",
              "    }\n",
              "\n",
              "    [theme=dark] .colab-df-convert {\n",
              "      background-color: #3B4455;\n",
              "      fill: #D2E3FC;\n",
              "    }\n",
              "\n",
              "    [theme=dark] .colab-df-convert:hover {\n",
              "      background-color: #434B5C;\n",
              "      box-shadow: 0px 1px 3px 1px rgba(0, 0, 0, 0.15);\n",
              "      filter: drop-shadow(0px 1px 2px rgba(0, 0, 0, 0.3));\n",
              "      fill: #FFFFFF;\n",
              "    }\n",
              "  </style>\n",
              "\n",
              "      <script>\n",
              "        const buttonEl =\n",
              "          document.querySelector('#df-a9666498-b5c4-4c60-ae87-2ed8d34fe0b9 button.colab-df-convert');\n",
              "        buttonEl.style.display =\n",
              "          google.colab.kernel.accessAllowed ? 'block' : 'none';\n",
              "\n",
              "        async function convertToInteractive(key) {\n",
              "          const element = document.querySelector('#df-a9666498-b5c4-4c60-ae87-2ed8d34fe0b9');\n",
              "          const dataTable =\n",
              "            await google.colab.kernel.invokeFunction('convertToInteractive',\n",
              "                                                     [key], {});\n",
              "          if (!dataTable) return;\n",
              "\n",
              "          const docLinkHtml = 'Like what you see? Visit the ' +\n",
              "            '<a target=\"_blank\" href=https://colab.research.google.com/notebooks/data_table.ipynb>data table notebook</a>'\n",
              "            + ' to learn more about interactive tables.';\n",
              "          element.innerHTML = '';\n",
              "          dataTable['output_type'] = 'display_data';\n",
              "          await google.colab.output.renderOutput(dataTable, element);\n",
              "          const docLink = document.createElement('div');\n",
              "          docLink.innerHTML = docLinkHtml;\n",
              "          element.appendChild(docLink);\n",
              "        }\n",
              "      </script>\n",
              "    </div>\n",
              "  </div>\n",
              "  "
            ]
          },
          "metadata": {},
          "execution_count": 67
        }
      ]
    },
    {
      "cell_type": "code",
      "source": [
        "X = data[['meanfun' , 'minfun', 'maxfun','sd','IQR']].values\n",
        "y_ = data['label'].values"
      ],
      "metadata": {
        "id": "sPfz0Ev6UvnD"
      },
      "execution_count": null,
      "outputs": []
    },
    {
      "cell_type": "code",
      "source": [
        "data.info()"
      ],
      "metadata": {
        "colab": {
          "base_uri": "https://localhost:8080/"
        },
        "id": "MQIhFpX-mPif",
        "outputId": "166b38d5-838a-4d37-fdbb-a9669c4284da"
      },
      "execution_count": null,
      "outputs": [
        {
          "output_type": "stream",
          "name": "stdout",
          "text": [
            "<class 'pandas.core.frame.DataFrame'>\n",
            "RangeIndex: 3168 entries, 0 to 3167\n",
            "Data columns (total 21 columns):\n",
            " #   Column    Non-Null Count  Dtype  \n",
            "---  ------    --------------  -----  \n",
            " 0   meanfreq  3168 non-null   float64\n",
            " 1   sd        3168 non-null   float64\n",
            " 2   median    3168 non-null   float64\n",
            " 3   Q25       3168 non-null   float64\n",
            " 4   Q75       3168 non-null   float64\n",
            " 5   IQR       3168 non-null   float64\n",
            " 6   skew      3168 non-null   float64\n",
            " 7   kurt      3168 non-null   float64\n",
            " 8   sp.ent    3168 non-null   float64\n",
            " 9   sfm       3168 non-null   float64\n",
            " 10  mode      3168 non-null   float64\n",
            " 11  centroid  3168 non-null   float64\n",
            " 12  meanfun   3168 non-null   float64\n",
            " 13  minfun    3168 non-null   float64\n",
            " 14  maxfun    3168 non-null   float64\n",
            " 15  meandom   3168 non-null   float64\n",
            " 16  mindom    3168 non-null   float64\n",
            " 17  maxdom    3168 non-null   float64\n",
            " 18  dfrange   3168 non-null   float64\n",
            " 19  modindx   3168 non-null   float64\n",
            " 20  label     3168 non-null   int64  \n",
            "dtypes: float64(20), int64(1)\n",
            "memory usage: 519.9 KB\n"
          ]
        }
      ]
    },
    {
      "cell_type": "code",
      "source": [
        "data.describe()"
      ],
      "metadata": {
        "colab": {
          "base_uri": "https://localhost:8080/",
          "height": 394
        },
        "id": "-fKhsEW6WZ2R",
        "outputId": "f51b0069-222f-4b24-c1ae-dd2da3042883"
      },
      "execution_count": null,
      "outputs": [
        {
          "output_type": "execute_result",
          "data": {
            "text/plain": [
              "          meanfreq           sd       median          Q25          Q75  \\\n",
              "count  3168.000000  3168.000000  3168.000000  3168.000000  3168.000000   \n",
              "mean      0.180907     0.057126     0.185621     0.140456     0.224765   \n",
              "std       0.029918     0.016652     0.036360     0.048680     0.023639   \n",
              "min       0.039363     0.018363     0.010975     0.000229     0.042946   \n",
              "25%       0.163662     0.041954     0.169593     0.111087     0.208747   \n",
              "50%       0.184838     0.059155     0.190032     0.140286     0.225684   \n",
              "75%       0.199146     0.067020     0.210618     0.175939     0.243660   \n",
              "max       0.251124     0.115273     0.261224     0.247347     0.273469   \n",
              "\n",
              "               IQR         skew         kurt       sp.ent          sfm  ...  \\\n",
              "count  3168.000000  3168.000000  3168.000000  3168.000000  3168.000000  ...   \n",
              "mean      0.084309     3.140168    36.568461     0.895127     0.408216  ...   \n",
              "std       0.042783     4.240529   134.928661     0.044980     0.177521  ...   \n",
              "min       0.014558     0.141735     2.068455     0.738651     0.036876  ...   \n",
              "25%       0.042560     1.649569     5.669547     0.861811     0.258041  ...   \n",
              "50%       0.094280     2.197101     8.318463     0.901767     0.396335  ...   \n",
              "75%       0.114175     2.931694    13.648905     0.928713     0.533676  ...   \n",
              "max       0.252225    34.725453  1309.612887     0.981997     0.842936  ...   \n",
              "\n",
              "          centroid      meanfun       minfun       maxfun      meandom  \\\n",
              "count  3168.000000  3168.000000  3168.000000  3168.000000  3168.000000   \n",
              "mean      0.180907     0.142807     0.036802     0.258842     0.829211   \n",
              "std       0.029918     0.032304     0.019220     0.030077     0.525205   \n",
              "min       0.039363     0.055565     0.009775     0.103093     0.007812   \n",
              "25%       0.163662     0.116998     0.018223     0.253968     0.419828   \n",
              "50%       0.184838     0.140519     0.046110     0.271186     0.765795   \n",
              "75%       0.199146     0.169581     0.047904     0.277457     1.177166   \n",
              "max       0.251124     0.237636     0.204082     0.279114     2.957682   \n",
              "\n",
              "            mindom       maxdom      dfrange      modindx        label  \n",
              "count  3168.000000  3168.000000  3168.000000  3168.000000  3168.000000  \n",
              "mean      0.052647     5.047277     4.994630     0.173752     0.500000  \n",
              "std       0.063299     3.521157     3.520039     0.119454     0.500079  \n",
              "min       0.004883     0.007812     0.000000     0.000000     0.000000  \n",
              "25%       0.007812     2.070312     2.044922     0.099766     0.000000  \n",
              "50%       0.023438     4.992188     4.945312     0.139357     0.500000  \n",
              "75%       0.070312     7.007812     6.992188     0.209183     1.000000  \n",
              "max       0.458984    21.867188    21.843750     0.932374     1.000000  \n",
              "\n",
              "[8 rows x 21 columns]"
            ],
            "text/html": [
              "\n",
              "  <div id=\"df-972df4ce-5de5-47c0-a563-2d1c98194806\">\n",
              "    <div class=\"colab-df-container\">\n",
              "      <div>\n",
              "<style scoped>\n",
              "    .dataframe tbody tr th:only-of-type {\n",
              "        vertical-align: middle;\n",
              "    }\n",
              "\n",
              "    .dataframe tbody tr th {\n",
              "        vertical-align: top;\n",
              "    }\n",
              "\n",
              "    .dataframe thead th {\n",
              "        text-align: right;\n",
              "    }\n",
              "</style>\n",
              "<table border=\"1\" class=\"dataframe\">\n",
              "  <thead>\n",
              "    <tr style=\"text-align: right;\">\n",
              "      <th></th>\n",
              "      <th>meanfreq</th>\n",
              "      <th>sd</th>\n",
              "      <th>median</th>\n",
              "      <th>Q25</th>\n",
              "      <th>Q75</th>\n",
              "      <th>IQR</th>\n",
              "      <th>skew</th>\n",
              "      <th>kurt</th>\n",
              "      <th>sp.ent</th>\n",
              "      <th>sfm</th>\n",
              "      <th>...</th>\n",
              "      <th>centroid</th>\n",
              "      <th>meanfun</th>\n",
              "      <th>minfun</th>\n",
              "      <th>maxfun</th>\n",
              "      <th>meandom</th>\n",
              "      <th>mindom</th>\n",
              "      <th>maxdom</th>\n",
              "      <th>dfrange</th>\n",
              "      <th>modindx</th>\n",
              "      <th>label</th>\n",
              "    </tr>\n",
              "  </thead>\n",
              "  <tbody>\n",
              "    <tr>\n",
              "      <th>count</th>\n",
              "      <td>3168.000000</td>\n",
              "      <td>3168.000000</td>\n",
              "      <td>3168.000000</td>\n",
              "      <td>3168.000000</td>\n",
              "      <td>3168.000000</td>\n",
              "      <td>3168.000000</td>\n",
              "      <td>3168.000000</td>\n",
              "      <td>3168.000000</td>\n",
              "      <td>3168.000000</td>\n",
              "      <td>3168.000000</td>\n",
              "      <td>...</td>\n",
              "      <td>3168.000000</td>\n",
              "      <td>3168.000000</td>\n",
              "      <td>3168.000000</td>\n",
              "      <td>3168.000000</td>\n",
              "      <td>3168.000000</td>\n",
              "      <td>3168.000000</td>\n",
              "      <td>3168.000000</td>\n",
              "      <td>3168.000000</td>\n",
              "      <td>3168.000000</td>\n",
              "      <td>3168.000000</td>\n",
              "    </tr>\n",
              "    <tr>\n",
              "      <th>mean</th>\n",
              "      <td>0.180907</td>\n",
              "      <td>0.057126</td>\n",
              "      <td>0.185621</td>\n",
              "      <td>0.140456</td>\n",
              "      <td>0.224765</td>\n",
              "      <td>0.084309</td>\n",
              "      <td>3.140168</td>\n",
              "      <td>36.568461</td>\n",
              "      <td>0.895127</td>\n",
              "      <td>0.408216</td>\n",
              "      <td>...</td>\n",
              "      <td>0.180907</td>\n",
              "      <td>0.142807</td>\n",
              "      <td>0.036802</td>\n",
              "      <td>0.258842</td>\n",
              "      <td>0.829211</td>\n",
              "      <td>0.052647</td>\n",
              "      <td>5.047277</td>\n",
              "      <td>4.994630</td>\n",
              "      <td>0.173752</td>\n",
              "      <td>0.500000</td>\n",
              "    </tr>\n",
              "    <tr>\n",
              "      <th>std</th>\n",
              "      <td>0.029918</td>\n",
              "      <td>0.016652</td>\n",
              "      <td>0.036360</td>\n",
              "      <td>0.048680</td>\n",
              "      <td>0.023639</td>\n",
              "      <td>0.042783</td>\n",
              "      <td>4.240529</td>\n",
              "      <td>134.928661</td>\n",
              "      <td>0.044980</td>\n",
              "      <td>0.177521</td>\n",
              "      <td>...</td>\n",
              "      <td>0.029918</td>\n",
              "      <td>0.032304</td>\n",
              "      <td>0.019220</td>\n",
              "      <td>0.030077</td>\n",
              "      <td>0.525205</td>\n",
              "      <td>0.063299</td>\n",
              "      <td>3.521157</td>\n",
              "      <td>3.520039</td>\n",
              "      <td>0.119454</td>\n",
              "      <td>0.500079</td>\n",
              "    </tr>\n",
              "    <tr>\n",
              "      <th>min</th>\n",
              "      <td>0.039363</td>\n",
              "      <td>0.018363</td>\n",
              "      <td>0.010975</td>\n",
              "      <td>0.000229</td>\n",
              "      <td>0.042946</td>\n",
              "      <td>0.014558</td>\n",
              "      <td>0.141735</td>\n",
              "      <td>2.068455</td>\n",
              "      <td>0.738651</td>\n",
              "      <td>0.036876</td>\n",
              "      <td>...</td>\n",
              "      <td>0.039363</td>\n",
              "      <td>0.055565</td>\n",
              "      <td>0.009775</td>\n",
              "      <td>0.103093</td>\n",
              "      <td>0.007812</td>\n",
              "      <td>0.004883</td>\n",
              "      <td>0.007812</td>\n",
              "      <td>0.000000</td>\n",
              "      <td>0.000000</td>\n",
              "      <td>0.000000</td>\n",
              "    </tr>\n",
              "    <tr>\n",
              "      <th>25%</th>\n",
              "      <td>0.163662</td>\n",
              "      <td>0.041954</td>\n",
              "      <td>0.169593</td>\n",
              "      <td>0.111087</td>\n",
              "      <td>0.208747</td>\n",
              "      <td>0.042560</td>\n",
              "      <td>1.649569</td>\n",
              "      <td>5.669547</td>\n",
              "      <td>0.861811</td>\n",
              "      <td>0.258041</td>\n",
              "      <td>...</td>\n",
              "      <td>0.163662</td>\n",
              "      <td>0.116998</td>\n",
              "      <td>0.018223</td>\n",
              "      <td>0.253968</td>\n",
              "      <td>0.419828</td>\n",
              "      <td>0.007812</td>\n",
              "      <td>2.070312</td>\n",
              "      <td>2.044922</td>\n",
              "      <td>0.099766</td>\n",
              "      <td>0.000000</td>\n",
              "    </tr>\n",
              "    <tr>\n",
              "      <th>50%</th>\n",
              "      <td>0.184838</td>\n",
              "      <td>0.059155</td>\n",
              "      <td>0.190032</td>\n",
              "      <td>0.140286</td>\n",
              "      <td>0.225684</td>\n",
              "      <td>0.094280</td>\n",
              "      <td>2.197101</td>\n",
              "      <td>8.318463</td>\n",
              "      <td>0.901767</td>\n",
              "      <td>0.396335</td>\n",
              "      <td>...</td>\n",
              "      <td>0.184838</td>\n",
              "      <td>0.140519</td>\n",
              "      <td>0.046110</td>\n",
              "      <td>0.271186</td>\n",
              "      <td>0.765795</td>\n",
              "      <td>0.023438</td>\n",
              "      <td>4.992188</td>\n",
              "      <td>4.945312</td>\n",
              "      <td>0.139357</td>\n",
              "      <td>0.500000</td>\n",
              "    </tr>\n",
              "    <tr>\n",
              "      <th>75%</th>\n",
              "      <td>0.199146</td>\n",
              "      <td>0.067020</td>\n",
              "      <td>0.210618</td>\n",
              "      <td>0.175939</td>\n",
              "      <td>0.243660</td>\n",
              "      <td>0.114175</td>\n",
              "      <td>2.931694</td>\n",
              "      <td>13.648905</td>\n",
              "      <td>0.928713</td>\n",
              "      <td>0.533676</td>\n",
              "      <td>...</td>\n",
              "      <td>0.199146</td>\n",
              "      <td>0.169581</td>\n",
              "      <td>0.047904</td>\n",
              "      <td>0.277457</td>\n",
              "      <td>1.177166</td>\n",
              "      <td>0.070312</td>\n",
              "      <td>7.007812</td>\n",
              "      <td>6.992188</td>\n",
              "      <td>0.209183</td>\n",
              "      <td>1.000000</td>\n",
              "    </tr>\n",
              "    <tr>\n",
              "      <th>max</th>\n",
              "      <td>0.251124</td>\n",
              "      <td>0.115273</td>\n",
              "      <td>0.261224</td>\n",
              "      <td>0.247347</td>\n",
              "      <td>0.273469</td>\n",
              "      <td>0.252225</td>\n",
              "      <td>34.725453</td>\n",
              "      <td>1309.612887</td>\n",
              "      <td>0.981997</td>\n",
              "      <td>0.842936</td>\n",
              "      <td>...</td>\n",
              "      <td>0.251124</td>\n",
              "      <td>0.237636</td>\n",
              "      <td>0.204082</td>\n",
              "      <td>0.279114</td>\n",
              "      <td>2.957682</td>\n",
              "      <td>0.458984</td>\n",
              "      <td>21.867188</td>\n",
              "      <td>21.843750</td>\n",
              "      <td>0.932374</td>\n",
              "      <td>1.000000</td>\n",
              "    </tr>\n",
              "  </tbody>\n",
              "</table>\n",
              "<p>8 rows × 21 columns</p>\n",
              "</div>\n",
              "      <button class=\"colab-df-convert\" onclick=\"convertToInteractive('df-972df4ce-5de5-47c0-a563-2d1c98194806')\"\n",
              "              title=\"Convert this dataframe to an interactive table.\"\n",
              "              style=\"display:none;\">\n",
              "        \n",
              "  <svg xmlns=\"http://www.w3.org/2000/svg\" height=\"24px\"viewBox=\"0 0 24 24\"\n",
              "       width=\"24px\">\n",
              "    <path d=\"M0 0h24v24H0V0z\" fill=\"none\"/>\n",
              "    <path d=\"M18.56 5.44l.94 2.06.94-2.06 2.06-.94-2.06-.94-.94-2.06-.94 2.06-2.06.94zm-11 1L8.5 8.5l.94-2.06 2.06-.94-2.06-.94L8.5 2.5l-.94 2.06-2.06.94zm10 10l.94 2.06.94-2.06 2.06-.94-2.06-.94-.94-2.06-.94 2.06-2.06.94z\"/><path d=\"M17.41 7.96l-1.37-1.37c-.4-.4-.92-.59-1.43-.59-.52 0-1.04.2-1.43.59L10.3 9.45l-7.72 7.72c-.78.78-.78 2.05 0 2.83L4 21.41c.39.39.9.59 1.41.59.51 0 1.02-.2 1.41-.59l7.78-7.78 2.81-2.81c.8-.78.8-2.07 0-2.86zM5.41 20L4 18.59l7.72-7.72 1.47 1.35L5.41 20z\"/>\n",
              "  </svg>\n",
              "      </button>\n",
              "      \n",
              "  <style>\n",
              "    .colab-df-container {\n",
              "      display:flex;\n",
              "      flex-wrap:wrap;\n",
              "      gap: 12px;\n",
              "    }\n",
              "\n",
              "    .colab-df-convert {\n",
              "      background-color: #E8F0FE;\n",
              "      border: none;\n",
              "      border-radius: 50%;\n",
              "      cursor: pointer;\n",
              "      display: none;\n",
              "      fill: #1967D2;\n",
              "      height: 32px;\n",
              "      padding: 0 0 0 0;\n",
              "      width: 32px;\n",
              "    }\n",
              "\n",
              "    .colab-df-convert:hover {\n",
              "      background-color: #E2EBFA;\n",
              "      box-shadow: 0px 1px 2px rgba(60, 64, 67, 0.3), 0px 1px 3px 1px rgba(60, 64, 67, 0.15);\n",
              "      fill: #174EA6;\n",
              "    }\n",
              "\n",
              "    [theme=dark] .colab-df-convert {\n",
              "      background-color: #3B4455;\n",
              "      fill: #D2E3FC;\n",
              "    }\n",
              "\n",
              "    [theme=dark] .colab-df-convert:hover {\n",
              "      background-color: #434B5C;\n",
              "      box-shadow: 0px 1px 3px 1px rgba(0, 0, 0, 0.15);\n",
              "      filter: drop-shadow(0px 1px 2px rgba(0, 0, 0, 0.3));\n",
              "      fill: #FFFFFF;\n",
              "    }\n",
              "  </style>\n",
              "\n",
              "      <script>\n",
              "        const buttonEl =\n",
              "          document.querySelector('#df-972df4ce-5de5-47c0-a563-2d1c98194806 button.colab-df-convert');\n",
              "        buttonEl.style.display =\n",
              "          google.colab.kernel.accessAllowed ? 'block' : 'none';\n",
              "\n",
              "        async function convertToInteractive(key) {\n",
              "          const element = document.querySelector('#df-972df4ce-5de5-47c0-a563-2d1c98194806');\n",
              "          const dataTable =\n",
              "            await google.colab.kernel.invokeFunction('convertToInteractive',\n",
              "                                                     [key], {});\n",
              "          if (!dataTable) return;\n",
              "\n",
              "          const docLinkHtml = 'Like what you see? Visit the ' +\n",
              "            '<a target=\"_blank\" href=https://colab.research.google.com/notebooks/data_table.ipynb>data table notebook</a>'\n",
              "            + ' to learn more about interactive tables.';\n",
              "          element.innerHTML = '';\n",
              "          dataTable['output_type'] = 'display_data';\n",
              "          await google.colab.output.renderOutput(dataTable, element);\n",
              "          const docLink = document.createElement('div');\n",
              "          docLink.innerHTML = docLinkHtml;\n",
              "          element.appendChild(docLink);\n",
              "        }\n",
              "      </script>\n",
              "    </div>\n",
              "  </div>\n",
              "  "
            ]
          },
          "metadata": {},
          "execution_count": 70
        }
      ]
    },
    {
      "cell_type": "code",
      "source": [
        "#checking outliers by boxplots\n",
        "sns.boxplot(data['meanfun'])\n",
        "#no outliers"
      ],
      "metadata": {
        "colab": {
          "base_uri": "https://localhost:8080/",
          "height": 351
        },
        "id": "VQvnkolTVtTW",
        "outputId": "873e9810-96b0-407d-ea8a-94490e87be86"
      },
      "execution_count": null,
      "outputs": [
        {
          "output_type": "stream",
          "name": "stderr",
          "text": [
            "/usr/local/lib/python3.9/dist-packages/seaborn/_decorators.py:36: FutureWarning: Pass the following variable as a keyword arg: x. From version 0.12, the only valid positional argument will be `data`, and passing other arguments without an explicit keyword will result in an error or misinterpretation.\n",
            "  warnings.warn(\n"
          ]
        },
        {
          "output_type": "execute_result",
          "data": {
            "text/plain": [
              "<AxesSubplot:xlabel='meanfun'>"
            ]
          },
          "metadata": {},
          "execution_count": 71
        },
        {
          "output_type": "display_data",
          "data": {
            "text/plain": [
              "<Figure size 432x288 with 1 Axes>"
            ],
            "image/png": "[encoded data removed]"
          },
          "metadata": {
            "needs_background": "light"
          }
        }
      ]
    },
    {
      "cell_type": "code",
      "source": [
        "#checking outliers by boxplots\n",
        "sns.boxplot(data['minfun'])\n",
        "#outliers detected"
      ],
      "metadata": {
        "colab": {
          "base_uri": "https://localhost:8080/",
          "height": 351
        },
        "id": "h7IqmsyFV6EW",
        "outputId": "41a19ae2-283b-4b13-c31b-0214bc778b7c"
      },
      "execution_count": null,
      "outputs": [
        {
          "output_type": "stream",
          "name": "stderr",
          "text": [
            "/usr/local/lib/python3.9/dist-packages/seaborn/_decorators.py:36: FutureWarning: Pass the following variable as a keyword arg: x. From version 0.12, the only valid positional argument will be `data`, and passing other arguments without an explicit keyword will result in an error or misinterpretation.\n",
            "  warnings.warn(\n"
          ]
        },
        {
          "output_type": "execute_result",
          "data": {
            "text/plain": [
              "<AxesSubplot:xlabel='minfun'>"
            ]
          },
          "metadata": {},
          "execution_count": 72
        },
        {
          "output_type": "display_data",
          "data": {
            "text/plain": [
              "<Figure size 432x288 with 1 Axes>"
            ],
            "image/png": "[encoded data removed]"
          },
          "metadata": {
            "needs_background": "light"
          }
        }
      ]
    },
    {
      "cell_type": "code",
      "source": [
        "#detect outliers of minfun location \n",
        "max = 0.047904 +(1.5*0.029681)\n",
        "\n",
        "out = np.where(data['minfun']>max)\n",
        "print(out)\n",
        "\n",
        "for i in out:\n",
        "    data.at[i,'minfun'] = max\n",
        "\n",
        "out = np.where(data['minfun']>max)\n",
        "print (out)\n",
        "\n",
        "#checking outliers by boxplots\n",
        "sns.boxplot(data['minfun'])"
      ],
      "metadata": {
        "colab": {
          "base_uri": "https://localhost:8080/",
          "height": 438
        },
        "id": "fSQRDAw5WR1O",
        "outputId": "c139da77-dfa4-4d04-8739-ed8daad68bd3"
      },
      "execution_count": null,
      "outputs": [
        {
          "output_type": "stream",
          "name": "stdout",
          "text": [
            "(array([  37,  328,  432, 1614, 1652, 1730, 1776, 1782, 1813, 1977, 1981,\n",
            "       1996, 2087, 2115, 2164, 2166, 2254, 3011, 3012, 3018, 3019, 3021,\n",
            "       3027, 3029, 3030, 3033, 3035, 3040, 3041, 3047, 3048, 3050, 3052,\n",
            "       3055, 3059, 3060, 3062, 3161]),)\n",
            "(array([], dtype=int64),)\n"
          ]
        },
        {
          "output_type": "stream",
          "name": "stderr",
          "text": [
            "/usr/local/lib/python3.9/dist-packages/seaborn/_decorators.py:36: FutureWarning: Pass the following variable as a keyword arg: x. From version 0.12, the only valid positional argument will be `data`, and passing other arguments without an explicit keyword will result in an error or misinterpretation.\n",
            "  warnings.warn(\n"
          ]
        },
        {
          "output_type": "execute_result",
          "data": {
            "text/plain": [
              "<AxesSubplot:xlabel='minfun'>"
            ]
          },
          "metadata": {},
          "execution_count": 73
        },
        {
          "output_type": "display_data",
          "data": {
            "text/plain": [
              "<Figure size 432x288 with 1 Axes>"
            ],
            "image/png": "[encoded data removed]"
          },
          "metadata": {
            "needs_background": "light"
          }
        }
      ]
    },
    {
      "cell_type": "code",
      "source": [
        "#checking outliers by boxplots\n",
        "sns.boxplot(data['maxfun'])\n",
        "#outliers detected"
      ],
      "metadata": {
        "colab": {
          "base_uri": "https://localhost:8080/",
          "height": 351
        },
        "id": "pLUTzkpcQrzi",
        "outputId": "3a87bee9-42a8-4fba-fea9-46af74da890f"
      },
      "execution_count": null,
      "outputs": [
        {
          "output_type": "stream",
          "name": "stderr",
          "text": [
            "/usr/local/lib/python3.9/dist-packages/seaborn/_decorators.py:36: FutureWarning: Pass the following variable as a keyword arg: x. From version 0.12, the only valid positional argument will be `data`, and passing other arguments without an explicit keyword will result in an error or misinterpretation.\n",
            "  warnings.warn(\n"
          ]
        },
        {
          "output_type": "execute_result",
          "data": {
            "text/plain": [
              "<AxesSubplot:xlabel='maxfun'>"
            ]
          },
          "metadata": {},
          "execution_count": 74
        },
        {
          "output_type": "display_data",
          "data": {
            "text/plain": [
              "<Figure size 432x288 with 1 Axes>"
            ],
            "image/png": "[encoded data removed]"
          },
          "metadata": {
            "needs_background": "light"
          }
        }
      ]
    },
    {
      "cell_type": "code",
      "source": [
        "#detect outliers of maxfun location \n",
        "min =  0.253968 - (1.5*0.023489)  \n",
        "\n",
        "out = np.where(data['maxfun'] < min)\n",
        "print(out)\n",
        "\n",
        "for i in out:\n",
        "    data.at[i,'maxfun'] = min\n",
        "\n",
        "out = np.where(data['maxfun'] < min)\n",
        "print (out)\n",
        "\n",
        "#checking outliers by boxplots\n",
        "sns.boxplot(data['maxfun'])\n"
      ],
      "metadata": {
        "colab": {
          "base_uri": "https://localhost:8080/",
          "height": 872
        },
        "id": "Ud8qITwjZgfZ",
        "outputId": "64070cf7-341a-4177-f440-b141473f6104"
      },
      "execution_count": null,
      "outputs": [
        {
          "output_type": "stream",
          "name": "stdout",
          "text": [
            "(array([   7,   10,   12,   19,   20,   22,   23,   29,   30,   35,   37,\n",
            "         38,   47,   49,   50,   51,   71,   84,   85,   91,   92,   96,\n",
            "        107,  109,  110,  113,  114,  115,  117,  118,  134,  165,  195,\n",
            "        196,  209,  215,  218,  299,  314,  320,  321,  322,  323,  330,\n",
            "        336,  337,  338,  339,  340,  345,  349,  353,  355,  356,  360,\n",
            "        363,  371,  372,  373,  374,  375,  377,  379,  380,  383,  386,\n",
            "        388,  390,  393,  395,  397,  398,  402,  404,  405,  408,  410,\n",
            "        411,  415,  420,  422,  423,  427,  430,  431,  432,  434,  435,\n",
            "        438,  439,  441,  442,  443,  444,  446,  447,  448,  449,  450,\n",
            "        451,  474,  481,  483,  515,  516,  529,  531,  534,  535,  536,\n",
            "        539,  541,  542,  543,  546,  549,  556,  558,  567,  580,  584,\n",
            "        586,  588,  597,  599,  601,  602,  605,  606,  610,  612,  613,\n",
            "        616,  622,  623,  624,  630,  634,  639,  646,  657,  659,  673,\n",
            "        677,  678,  680,  681,  682,  685,  686,  689,  690,  692,  693,\n",
            "        694,  695,  696,  697,  698,  699,  700,  701,  702,  704,  705,\n",
            "        706,  707,  710,  717,  718,  719,  721,  722,  730,  732,  733,\n",
            "        737,  739,  740,  742,  744,  745,  755,  756,  759,  774,  778,\n",
            "        779,  780,  789,  791,  792,  797,  800,  802,  803,  804,  868,\n",
            "        869, 1475, 1477, 1488, 1500, 1510, 1534, 1538, 1539, 1540, 1543,\n",
            "       1545, 1552, 1558, 1560, 1562, 1563, 1566, 1567, 1568, 1572, 1574,\n",
            "       1577, 1717, 1737, 1743, 1744, 1746, 1750, 1751, 1757, 1758, 1760,\n",
            "       1762, 1765, 1767, 1770, 1776, 1780, 1786, 1788, 1793, 1797, 1799,\n",
            "       1801, 1802, 1803, 1804, 1809, 1814, 1818, 1822, 1824, 1825, 1828,\n",
            "       1829, 1832, 1833, 1835, 1837, 1839, 1854, 1933, 2026, 2037, 2062,\n",
            "       2101, 2102, 2961, 2962, 2976, 2983, 2985, 2987, 2992, 2995, 3008,\n",
            "       3019, 3031, 3039, 3059, 3063, 3064, 3065, 3066, 3067, 3071, 3072,\n",
            "       3074, 3075, 3076, 3077, 3078, 3079, 3080, 3081, 3082, 3083, 3085,\n",
            "       3087, 3088, 3090, 3092, 3093, 3095, 3096, 3097, 3099, 3100, 3102,\n",
            "       3107, 3109, 3110, 3111, 3112]),)\n",
            "(array([], dtype=int64),)\n"
          ]
        },
        {
          "output_type": "stream",
          "name": "stderr",
          "text": [
            "/usr/local/lib/python3.9/dist-packages/seaborn/_decorators.py:36: FutureWarning: Pass the following variable as a keyword arg: x. From version 0.12, the only valid positional argument will be `data`, and passing other arguments without an explicit keyword will result in an error or misinterpretation.\n",
            "  warnings.warn(\n"
          ]
        },
        {
          "output_type": "execute_result",
          "data": {
            "text/plain": [
              "<AxesSubplot:xlabel='maxfun'>"
            ]
          },
          "metadata": {},
          "execution_count": 75
        },
        {
          "output_type": "display_data",
          "data": {
            "text/plain": [
              "<Figure size 432x288 with 1 Axes>"
            ],
            "image/png": "[encoded data removed]"
          },
          "metadata": {
            "needs_background": "light"
          }
        }
      ]
    },
    {
      "cell_type": "code",
      "source": [
        "#checking outliers by boxplots\n",
        "sns.boxplot(data['sd'])\n",
        "#outliers detected"
      ],
      "metadata": {
        "colab": {
          "base_uri": "https://localhost:8080/",
          "height": 351
        },
        "id": "95ta9II-SvO4",
        "outputId": "af23cb64-9954-4c74-c5d5-42218fb271cb"
      },
      "execution_count": null,
      "outputs": [
        {
          "output_type": "stream",
          "name": "stderr",
          "text": [
            "/usr/local/lib/python3.9/dist-packages/seaborn/_decorators.py:36: FutureWarning: Pass the following variable as a keyword arg: x. From version 0.12, the only valid positional argument will be `data`, and passing other arguments without an explicit keyword will result in an error or misinterpretation.\n",
            "  warnings.warn(\n"
          ]
        },
        {
          "output_type": "execute_result",
          "data": {
            "text/plain": [
              "<AxesSubplot:xlabel='sd'>"
            ]
          },
          "metadata": {},
          "execution_count": 76
        },
        {
          "output_type": "display_data",
          "data": {
            "text/plain": [
              "<Figure size 432x288 with 1 Axes>"
            ],
            "image/png": "[encoded data removed]"
          },
          "metadata": {
            "needs_background": "light"
          }
        }
      ]
    },
    {
      "cell_type": "code",
      "source": [
        "#detect outliers of sd location \n",
        "max = 0.067020 +(1.5*0.025066)\n",
        "\n",
        "out = np.where(data['sd']>max)\n",
        "print(out)\n",
        "\n",
        "for i in out:\n",
        "    data.at[i,'sd'] = max\n",
        "\n",
        "out = np.where(data['sd']>max)\n",
        "print (out)\n",
        "\n",
        "#checking outliers by boxplots\n",
        "sns.boxplot(data['sd'])\n"
      ],
      "metadata": {
        "colab": {
          "base_uri": "https://localhost:8080/",
          "height": 386
        },
        "id": "zt7IiD0bRz_5",
        "outputId": "a8c5133e-a36b-4118-c4c2-8f96b9a8c8f6"
      },
      "execution_count": null,
      "outputs": [
        {
          "output_type": "stream",
          "name": "stdout",
          "text": [
            "(array([1921, 1922, 1923, 1924, 1925, 1926, 1927, 1928, 1929, 1930]),)\n",
            "(array([], dtype=int64),)\n"
          ]
        },
        {
          "output_type": "stream",
          "name": "stderr",
          "text": [
            "/usr/local/lib/python3.9/dist-packages/seaborn/_decorators.py:36: FutureWarning: Pass the following variable as a keyword arg: x. From version 0.12, the only valid positional argument will be `data`, and passing other arguments without an explicit keyword will result in an error or misinterpretation.\n",
            "  warnings.warn(\n"
          ]
        },
        {
          "output_type": "execute_result",
          "data": {
            "text/plain": [
              "<AxesSubplot:xlabel='sd'>"
            ]
          },
          "metadata": {},
          "execution_count": 77
        },
        {
          "output_type": "display_data",
          "data": {
            "text/plain": [
              "<Figure size 432x288 with 1 Axes>"
            ],
            "image/png": "[encoded data removed]"
          },
          "metadata": {
            "needs_background": "light"
          }
        }
      ]
    },
    {
      "cell_type": "code",
      "source": [
        "#checking outliers by boxplots\n",
        "sns.boxplot(data['IQR'])\n",
        "#outliers detected"
      ],
      "metadata": {
        "colab": {
          "base_uri": "https://localhost:8080/",
          "height": 351
        },
        "id": "Ujn4fAwLT3WN",
        "outputId": "fd660327-4165-4875-80af-d6199931ab22"
      },
      "execution_count": null,
      "outputs": [
        {
          "output_type": "stream",
          "name": "stderr",
          "text": [
            "/usr/local/lib/python3.9/dist-packages/seaborn/_decorators.py:36: FutureWarning: Pass the following variable as a keyword arg: x. From version 0.12, the only valid positional argument will be `data`, and passing other arguments without an explicit keyword will result in an error or misinterpretation.\n",
            "  warnings.warn(\n"
          ]
        },
        {
          "output_type": "execute_result",
          "data": {
            "text/plain": [
              "<AxesSubplot:xlabel='IQR'>"
            ]
          },
          "metadata": {},
          "execution_count": 78
        },
        {
          "output_type": "display_data",
          "data": {
            "text/plain": [
              "<Figure size 432x288 with 1 Axes>"
            ],
            "image/png": "[encoded data removed]"
          },
          "metadata": {
            "needs_background": "light"
          }
        }
      ]
    },
    {
      "cell_type": "code",
      "source": [
        "#detect outliers of IQR location \n",
        "max =  0.114175\t+ (1.5*0.071615)\n",
        "\n",
        "out = np.where(data['IQR']>max)\n",
        "print(out)\n",
        "\n",
        "for i in out:\n",
        "    data.at[i,'IQR'] = max\n",
        "\n",
        "out = np.where(data['IQR']>max)\n",
        "print (out)\n",
        "\n",
        "#checking outliers by boxplots\n",
        "sns.boxplot(data['IQR'])\n"
      ],
      "metadata": {
        "colab": {
          "base_uri": "https://localhost:8080/",
          "height": 386
        },
        "id": "mAn4uCdiT3C3",
        "outputId": "a9e3962c-17bb-4578-b33d-d8799f203b46"
      },
      "execution_count": null,
      "outputs": [
        {
          "output_type": "stream",
          "name": "stdout",
          "text": [
            "(array([1921, 1922, 1923, 1924, 1925, 1926, 1927, 1928, 1929, 1930]),)\n",
            "(array([], dtype=int64),)\n"
          ]
        },
        {
          "output_type": "stream",
          "name": "stderr",
          "text": [
            "/usr/local/lib/python3.9/dist-packages/seaborn/_decorators.py:36: FutureWarning: Pass the following variable as a keyword arg: x. From version 0.12, the only valid positional argument will be `data`, and passing other arguments without an explicit keyword will result in an error or misinterpretation.\n",
            "  warnings.warn(\n"
          ]
        },
        {
          "output_type": "execute_result",
          "data": {
            "text/plain": [
              "<AxesSubplot:xlabel='IQR'>"
            ]
          },
          "metadata": {},
          "execution_count": 79
        },
        {
          "output_type": "display_data",
          "data": {
            "text/plain": [
              "<Figure size 432x288 with 1 Axes>"
            ],
            "image/png": "[encoded data removed]"
          },
          "metadata": {
            "needs_background": "light"
          }
        }
      ]
    },
    {
      "cell_type": "code",
      "source": [
        "from sklearn.model_selection import train_test_split\n",
        "X_train, X_test, y_train, y_test = train_test_split(X, y_, test_size=0.3, random_state=10)"
      ],
      "metadata": {
        "id": "k58NSgXMWPII"
      },
      "execution_count": null,
      "outputs": []
    },
    {
      "cell_type": "code",
      "source": [
        "from sklearn.svm import SVC\n",
        "from sklearn import metrics\n",
        "svc=SVC() #Default hyperparameters\n",
        "svc.fit(X_train,y_train)\n",
        "y_pred=svc.predict(X_test)"
      ],
      "metadata": {
        "id": "92Jql-YnWPPf"
      },
      "execution_count": null,
      "outputs": []
    },
    {
      "cell_type": "code",
      "source": [
        "print('Accuracy Score:')\n",
        "print(metrics.accuracy_score(y_test,y_pred))"
      ],
      "metadata": {
        "colab": {
          "base_uri": "https://localhost:8080/"
        },
        "id": "rMkFWEH-WPUi",
        "outputId": "6cd952ac-9436-4838-d7a1-00a3c47ff6e9"
      },
      "execution_count": null,
      "outputs": [
        {
          "output_type": "stream",
          "name": "stdout",
          "text": [
            "Accuracy Score:\n",
            "0.9789695057833859\n"
          ]
        }
      ]
    },
    {
      "cell_type": "code",
      "source": [
        "from sklearn.metrics import  f1_score\n",
        "f1_score = f1_score(y_test, y_pred)\n",
        "print(\"F1 Score:\")\n",
        "print(f1_score)"
      ],
      "metadata": {
        "colab": {
          "base_uri": "https://localhost:8080/"
        },
        "id": "OZuOSxvFWPYB",
        "outputId": "404e4976-5d5c-4681-c0ac-56d4b42f98cd"
      },
      "execution_count": null,
      "outputs": [
        {
          "output_type": "stream",
          "name": "stdout",
          "text": [
            "F1 Score:\n",
            "0.979757085020243\n"
          ]
        }
      ]
    },
    {
      "cell_type": "code",
      "source": [
        "import joblib\n",
        "joblib.dump(svc,\"ML.joblib\")"
      ],
      "metadata": {
        "colab": {
          "base_uri": "https://localhost:8080/"
        },
        "id": "z8U7cpSq5BFY",
        "outputId": "15970b13-3c90-4c14-ddfc-2e0ea1bf13f5"
      },
      "execution_count": null,
      "outputs": [
        {
          "output_type": "execute_result",
          "data": {
            "text/plain": [
              "['ML.joblib']"
            ]
          },
          "metadata": {},
          "execution_count": 135
        }
      ]
    },
    {
      "cell_type": "code",
      "source": [
        "print(y_pred)"
      ],
      "metadata": {
        "colab": {
          "base_uri": "https://localhost:8080/"
        },
        "id": "XsYkhhXP-jJF",
        "outputId": "1c4982a4-7b46-4575-c86c-86588c36a7a8"
      },
      "execution_count": null,
      "outputs": [
        {
          "output_type": "stream",
          "name": "stdout",
          "text": [
            "[0 1 1 1 1 1 0 1 0 1 0 0 1 0 0 1 0 0 1 1 1 1 1 1 0 0 1 1 1 1 1 0 0 1 0 1 0\n",
            " 1 0 1 1 0 1 1 1 1 1 1 1 0 0 0 0 1 1 1 1 1 1 0 1 1 0 0 0 1 0 0 0 1 1 0 1 1\n",
            " 1 1 1 0 1 1 1 1 0 0 1 0 1 1 1 1 1 1 0 0 0 0 0 1 1 0 0 0 1 1 0 1 1 1 1 0 0\n",
            " 1 0 0 1 1 0 1 0 0 1 1 1 1 0 0 0 0 1 0 1 1 1 1 0 1 1 0 0 1 0 0 1 0 0 1 1 1\n",
            " 1 0 1 0 0 0 1 1 0 0 1 0 0 0 1 0 0 1 0 1 1 0 1 0 1 0 1 0 0 0 1 1 1 1 1 1 0\n",
            " 0 1 0 0 1 0 1 0 0 0 1 0 0 0 1 0 0 0 0 1 0 0 0 0 1 1 1 1 0 0 0 0 1 1 0 0 0\n",
            " 0 0 1 0 1 0 0 1 0 0 0 1 1 0 1 1 0 1 0 0 1 0 0 1 0 1 1 0 1 0 0 0 0 1 0 0 1\n",
            " 1 1 0 0 0 0 0 0 0 1 0 1 0 1 0 1 1 0 0 1 1 0 1 0 0 1 1 1 0 1 1 1 1 1 1 1 1\n",
            " 1 1 0 1 1 0 0 1 0 0 0 1 0 1 0 1 0 1 1 0 0 0 0 1 1 1 0 1 1 1 1 1 1 0 1 1 1\n",
            " 1 0 1 1 1 0 0 1 0 1 1 0 0 0 0 1 0 0 1 0 1 1 1 1 1 0 1 1 0 0 1 0 0 1 1 0 0\n",
            " 0 0 0 0 0 0 0 0 1 1 0 0 0 1 0 1 0 1 1 0 1 1 1 1 0 0 1 0 0 1 1 0 1 1 1 0 1\n",
            " 0 0 0 0 0 1 0 1 1 0 1 0 1 0 0 0 1 1 0 0 0 0 0 0 1 1 1 0 0 0 0 0 1 0 0 0 1\n",
            " 1 1 0 0 1 0 0 0 0 1 1 1 0 0 1 1 1 1 0 1 0 1 0 0 0 1 1 1 1 0 1 0 1 1 1 1 0\n",
            " 0 0 1 0 1 0 0 1 0 1 1 1 0 1 1 0 0 1 0 1 1 0 0 1 1 1 0 1 0 0 1 0 0 1 0 0 1\n",
            " 1 0 0 0 1 0 1 1 1 1 1 1 1 1 1 0 0 0 1 1 0 0 1 0 0 1 1 0 0 1 1 0 0 1 0 1 0\n",
            " 0 1 0 0 0 1 0 1 1 1 0 0 1 1 1 0 1 0 1 0 1 0 0 0 0 0 1 1 0 0 0 1 1 0 1 1 1\n",
            " 1 1 0 0 0 1 0 1 0 0 1 1 0 0 1 1 1 0 0 0 0 0 1 0 1 1 0 0 1 0 1 1 1 0 0 0 0\n",
            " 0 1 1 0 0 0 1 1 0 1 0 0 0 1 1 0 1 1 1 1 0 0 0 1 1 1 0 1 0 0 1 1 1 0 1 0 0\n",
            " 1 1 1 1 0 1 0 0 0 0 1 1 1 1 1 0 1 1 1 0 0 1 1 0 0 0 0 0 0 1 1 1 0 1 1 0 1\n",
            " 0 0 1 0 0 1 0 0 0 1 1 1 1 1 0 0 0 1 1 0 0 1 1 0 1 1 0 1 1 1 0 1 1 1 1 0 1\n",
            " 1 0 1 0 1 1 0 0 0 0 0 0 1 1 0 0 1 1 1 1 1 1 0 0 1 1 1 0 1 1 0 1 1 1 0 1 0\n",
            " 0 1 1 1 1 1 0 0 0 1 0 1 1 1 0 1 1 1 0 0 1 1 0 0 0 1 1 0 1 1 1 0 0 1 1 1 0\n",
            " 1 0 1 0 1 1 1 1 1 0 0 0 1 1 1 0 1 0 1 1 0 0 1 1 1 1 1 0 1 0 1 1 0 1 0 1 1\n",
            " 0 1 1 1 1 0 1 1 1 0 1 0 1 0 0 1 0 0 0 0 1 0 1 1 0 1 0 1 1 1 1 0 1 0 0 1 1\n",
            " 0 1 0 0 1 0 0 0 1 1 0 1 0 1 0 0 1 0 0 1 0 1 0 0 0 1 0 1 0 0 1 1 0 0 1 1 1\n",
            " 1 1 0 0 0 0 0 0 1 0 1 1 1 1 0 0 1 0 0 1 1 1 0 0 1 0]\n"
          ]
        }
      ]
    },
    {
      "cell_type": "code",
      "source": [
        "print(X_test)"
      ],
      "metadata": {
        "colab": {
          "base_uri": "https://localhost:8080/"
        },
        "id": "Q6HOSY0a-8Ms",
        "outputId": "dc228391-2247-4635-f626-f19cfbdef7a2"
      },
      "execution_count": null,
      "outputs": [
        {
          "output_type": "stream",
          "name": "stdout",
          "text": [
            "[[0.18455291 0.04819277 0.27745665 0.03140139 0.03322034]\n",
            " [0.12377071 0.047105   0.27428571 0.05897891 0.11452055]\n",
            " [0.13532741 0.04766634 0.27586207 0.06059576 0.09694042]\n",
            " ...\n",
            " [0.19879842 0.0776699  0.27586207 0.08688903 0.16719905]\n",
            " [0.12387811 0.04873096 0.27906977 0.05728988 0.1083247 ]\n",
            " [0.18462149 0.0245023  0.27586207 0.03362206 0.02455115]]\n"
          ]
        }
      ]
    },
    {
      "cell_type": "code",
      "source": [
        "import matplotlib.style as ms\n",
        "import matplotlib.pyplot as plt\n",
        "import numpy as np\n",
        "ms.use('seaborn-muted')\n",
        "import librosa \n",
        "import librosa.display\n",
        "\n",
        "import IPython.display as ipd\n"
      ],
      "metadata": {
        "id": "8gNYyPM6nDkD"
      },
      "execution_count": null,
      "outputs": []
    },
    {
      "cell_type": "code",
      "source": [
        "y, sr= librosa.load('recording4.wav')"
      ],
      "metadata": {
        "id": "be3wduvInDwU"
      },
      "execution_count": null,
      "outputs": []
    },
    {
      "cell_type": "code",
      "source": [
        "ipd.Audio(y,rate=sr)"
      ],
      "metadata": {
        "colab": {
          "base_uri": "https://localhost:8080/",
          "height": 75
        },
        "id": "ngiOpD5ZJEbM",
        "outputId": "273a19ea-d4ad-434e-a957-30ce31141617"
      },
      "execution_count": null,
      "outputs": [
        {
          "output_type": "execute_result",
          "data": {
            "text/plain": [
              "<IPython.lib.display.Audio object>"
            ],
            "text/html": [
              "\n",
              "                <audio  controls=\"controls\" >\n",
              "                    <source src=\"data:audio/wav;base64,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\" type=\"audio/wav\" />\n",
              "                    Your browser does not support the audio element.\n",
              "                </audio>\n",
              "              "
            ]
          },
          "metadata": {},
          "execution_count": 149
        }
      ]
    },
    {
      "cell_type": "code",
      "source": [
        "S = librosa.feature.melspectrogram(y,sr=sr)\n",
        "log_S= librosa.power_to_db(S, ref=np.max)"
      ],
      "metadata": {
        "id": "5yeofs-_J_6p"
      },
      "execution_count": null,
      "outputs": []
    },
    {
      "cell_type": "code",
      "source": [
        "mfcc = librosa.feature.mfcc(S=log_S,n_mfcc=13)"
      ],
      "metadata": {
        "id": "SDlNTwM7KADd"
      },
      "execution_count": null,
      "outputs": []
    },
    {
      "cell_type": "code",
      "source": [
        "onset_env = librosa.onset.onset_strength(y,sr=sr)\n",
        "tempo = librosa.beat.tempo(onset_env,sr=sr)\n",
        "tempo"
      ],
      "metadata": {
        "colab": {
          "base_uri": "https://localhost:8080/"
        },
        "id": "7CROAgYYKd3L",
        "outputId": "1a88f855-e379-4a7c-f383-a8f3db530274"
      },
      "execution_count": null,
      "outputs": [
        {
          "output_type": "stream",
          "name": "stderr",
          "text": [
            "/usr/local/lib/python3.9/dist-packages/librosa/core/spectrum.py:222: UserWarning: n_fft=2048 is too small for input signal of length=174\n",
            "  warnings.warn(\n"
          ]
        },
        {
          "output_type": "execute_result",
          "data": {
            "text/plain": [
              "array([117.45383523])"
            ]
          },
          "metadata": {},
          "execution_count": 152
        }
      ]
    },
    {
      "cell_type": "code",
      "source": [
        "y_harmonic,y_precussive = librosa.effects.hpss(y)\n",
        "tempo,beats = librosa.beat.beat_track(y=y_precussive,sr=sr)"
      ],
      "metadata": {
        "id": "0ZNufmOWRjSn"
      },
      "execution_count": null,
      "outputs": []
    },
    {
      "cell_type": "code",
      "source": [
        "df=pd.DataFrame(S)\n",
        "df.head()"
      ],
      "metadata": {
        "colab": {
          "base_uri": "https://localhost:8080/",
          "height": 300
        },
        "id": "HcP22RruRjiX",
        "outputId": "33252b3f-6655-4248-e29f-2c1eebf2bbeb"
      },
      "execution_count": null,
      "outputs": [
        {
          "output_type": "execute_result",
          "data": {
            "text/plain": [
              "        0         1         2         3         4         5         6    \\\n",
              "0  0.000583  0.004227  0.007183  0.003305  0.006661  0.006806  0.006237   \n",
              "1  0.007369  0.024614  0.018942  0.011476  0.016994  0.019960  0.008905   \n",
              "2  0.006085  0.013835  0.008706  0.006289  0.011505  0.009329  0.005046   \n",
              "3  0.001177  0.001698  0.000233  0.000138  0.000728  0.002289  0.005251   \n",
              "4  0.021378  0.049920  0.099021  0.118489  0.228431  0.649628  1.719043   \n",
              "\n",
              "        7         8         9    ...       164       165       166       167  \\\n",
              "0  0.012228  0.007631  0.024495  ...  0.094681  0.057138  0.067494  0.088930   \n",
              "1  0.012259  0.020957  0.021716  ...  0.134093  0.059729  0.090453  0.044757   \n",
              "2  0.004396  0.012639  0.011976  ...  0.033384  0.020497  0.013714  0.006528   \n",
              "3  0.003397  0.001628  0.004796  ...  0.000398  0.001125  0.001844  0.001512   \n",
              "4  3.413116  4.752305  6.276490  ...  0.000773  0.001090  0.001058  0.001076   \n",
              "\n",
              "        168       169       170       171       172       173  \n",
              "0  0.067864  0.042942  0.020537  0.012303  0.019829  0.008971  \n",
              "1  0.067587  0.062483  0.022299  0.029623  0.033628  0.071922  \n",
              "2  0.010564  0.012964  0.006895  0.008904  0.016013  0.039642  \n",
              "3  0.001070  0.001070  0.000598  0.000765  0.002489  0.005264  \n",
              "4  0.001642  0.001481  0.000499  0.001703  0.005947  0.008029  \n",
              "\n",
              "[5 rows x 174 columns]"
            ],
            "text/html": [
              "\n",
              "  <div id=\"df-05072950-f0aa-4644-8485-d0c08eb6f9f4\">\n",
              "    <div class=\"colab-df-container\">\n",
              "      <div>\n",
              "<style scoped>\n",
              "    .dataframe tbody tr th:only-of-type {\n",
              "        vertical-align: middle;\n",
              "    }\n",
              "\n",
              "    .dataframe tbody tr th {\n",
              "        vertical-align: top;\n",
              "    }\n",
              "\n",
              "    .dataframe thead th {\n",
              "        text-align: right;\n",
              "    }\n",
              "</style>\n",
              "<table border=\"1\" class=\"dataframe\">\n",
              "  <thead>\n",
              "    <tr style=\"text-align: right;\">\n",
              "      <th></th>\n",
              "      <th>0</th>\n",
              "      <th>1</th>\n",
              "      <th>2</th>\n",
              "      <th>3</th>\n",
              "      <th>4</th>\n",
              "      <th>5</th>\n",
              "      <th>6</th>\n",
              "      <th>7</th>\n",
              "      <th>8</th>\n",
              "      <th>9</th>\n",
              "      <th>...</th>\n",
              "      <th>164</th>\n",
              "      <th>165</th>\n",
              "      <th>166</th>\n",
              "      <th>167</th>\n",
              "      <th>168</th>\n",
              "      <th>169</th>\n",
              "      <th>170</th>\n",
              "      <th>171</th>\n",
              "      <th>172</th>\n",
              "      <th>173</th>\n",
              "    </tr>\n",
              "  </thead>\n",
              "  <tbody>\n",
              "    <tr>\n",
              "      <th>0</th>\n",
              "      <td>0.000583</td>\n",
              "      <td>0.004227</td>\n",
              "      <td>0.007183</td>\n",
              "      <td>0.003305</td>\n",
              "      <td>0.006661</td>\n",
              "      <td>0.006806</td>\n",
              "      <td>0.006237</td>\n",
              "      <td>0.012228</td>\n",
              "      <td>0.007631</td>\n",
              "      <td>0.024495</td>\n",
              "      <td>...</td>\n",
              "      <td>0.094681</td>\n",
              "      <td>0.057138</td>\n",
              "      <td>0.067494</td>\n",
              "      <td>0.088930</td>\n",
              "      <td>0.067864</td>\n",
              "      <td>0.042942</td>\n",
              "      <td>0.020537</td>\n",
              "      <td>0.012303</td>\n",
              "      <td>0.019829</td>\n",
              "      <td>0.008971</td>\n",
              "    </tr>\n",
              "    <tr>\n",
              "      <th>1</th>\n",
              "      <td>0.007369</td>\n",
              "      <td>0.024614</td>\n",
              "      <td>0.018942</td>\n",
              "      <td>0.011476</td>\n",
              "      <td>0.016994</td>\n",
              "      <td>0.019960</td>\n",
              "      <td>0.008905</td>\n",
              "      <td>0.012259</td>\n",
              "      <td>0.020957</td>\n",
              "      <td>0.021716</td>\n",
              "      <td>...</td>\n",
              "      <td>0.134093</td>\n",
              "      <td>0.059729</td>\n",
              "      <td>0.090453</td>\n",
              "      <td>0.044757</td>\n",
              "      <td>0.067587</td>\n",
              "      <td>0.062483</td>\n",
              "      <td>0.022299</td>\n",
              "      <td>0.029623</td>\n",
              "      <td>0.033628</td>\n",
              "      <td>0.071922</td>\n",
              "    </tr>\n",
              "    <tr>\n",
              "      <th>2</th>\n",
              "      <td>0.006085</td>\n",
              "      <td>0.013835</td>\n",
              "      <td>0.008706</td>\n",
              "      <td>0.006289</td>\n",
              "      <td>0.011505</td>\n",
              "      <td>0.009329</td>\n",
              "      <td>0.005046</td>\n",
              "      <td>0.004396</td>\n",
              "      <td>0.012639</td>\n",
              "      <td>0.011976</td>\n",
              "      <td>...</td>\n",
              "      <td>0.033384</td>\n",
              "      <td>0.020497</td>\n",
              "      <td>0.013714</td>\n",
              "      <td>0.006528</td>\n",
              "      <td>0.010564</td>\n",
              "      <td>0.012964</td>\n",
              "      <td>0.006895</td>\n",
              "      <td>0.008904</td>\n",
              "      <td>0.016013</td>\n",
              "      <td>0.039642</td>\n",
              "    </tr>\n",
              "    <tr>\n",
              "      <th>3</th>\n",
              "      <td>0.001177</td>\n",
              "      <td>0.001698</td>\n",
              "      <td>0.000233</td>\n",
              "      <td>0.000138</td>\n",
              "      <td>0.000728</td>\n",
              "      <td>0.002289</td>\n",
              "      <td>0.005251</td>\n",
              "      <td>0.003397</td>\n",
              "      <td>0.001628</td>\n",
              "      <td>0.004796</td>\n",
              "      <td>...</td>\n",
              "      <td>0.000398</td>\n",
              "      <td>0.001125</td>\n",
              "      <td>0.001844</td>\n",
              "      <td>0.001512</td>\n",
              "      <td>0.001070</td>\n",
              "      <td>0.001070</td>\n",
              "      <td>0.000598</td>\n",
              "      <td>0.000765</td>\n",
              "      <td>0.002489</td>\n",
              "      <td>0.005264</td>\n",
              "    </tr>\n",
              "    <tr>\n",
              "      <th>4</th>\n",
              "      <td>0.021378</td>\n",
              "      <td>0.049920</td>\n",
              "      <td>0.099021</td>\n",
              "      <td>0.118489</td>\n",
              "      <td>0.228431</td>\n",
              "      <td>0.649628</td>\n",
              "      <td>1.719043</td>\n",
              "      <td>3.413116</td>\n",
              "      <td>4.752305</td>\n",
              "      <td>6.276490</td>\n",
              "      <td>...</td>\n",
              "      <td>0.000773</td>\n",
              "      <td>0.001090</td>\n",
              "      <td>0.001058</td>\n",
              "      <td>0.001076</td>\n",
              "      <td>0.001642</td>\n",
              "      <td>0.001481</td>\n",
              "      <td>0.000499</td>\n",
              "      <td>0.001703</td>\n",
              "      <td>0.005947</td>\n",
              "      <td>0.008029</td>\n",
              "    </tr>\n",
              "  </tbody>\n",
              "</table>\n",
              "<p>5 rows × 174 columns</p>\n",
              "</div>\n",
              "      <button class=\"colab-df-convert\" onclick=\"convertToInteractive('df-05072950-f0aa-4644-8485-d0c08eb6f9f4')\"\n",
              "              title=\"Convert this dataframe to an interactive table.\"\n",
              "              style=\"display:none;\">\n",
              "        \n",
              "  <svg xmlns=\"http://www.w3.org/2000/svg\" height=\"24px\"viewBox=\"0 0 24 24\"\n",
              "       width=\"24px\">\n",
              "    <path d=\"M0 0h24v24H0V0z\" fill=\"none\"/>\n",
              "    <path d=\"M18.56 5.44l.94 2.06.94-2.06 2.06-.94-2.06-.94-.94-2.06-.94 2.06-2.06.94zm-11 1L8.5 8.5l.94-2.06 2.06-.94-2.06-.94L8.5 2.5l-.94 2.06-2.06.94zm10 10l.94 2.06.94-2.06 2.06-.94-2.06-.94-.94-2.06-.94 2.06-2.06.94z\"/><path d=\"M17.41 7.96l-1.37-1.37c-.4-.4-.92-.59-1.43-.59-.52 0-1.04.2-1.43.59L10.3 9.45l-7.72 7.72c-.78.78-.78 2.05 0 2.83L4 21.41c.39.39.9.59 1.41.59.51 0 1.02-.2 1.41-.59l7.78-7.78 2.81-2.81c.8-.78.8-2.07 0-2.86zM5.41 20L4 18.59l7.72-7.72 1.47 1.35L5.41 20z\"/>\n",
              "  </svg>\n",
              "      </button>\n",
              "      \n",
              "  <style>\n",
              "    .colab-df-container {\n",
              "      display:flex;\n",
              "      flex-wrap:wrap;\n",
              "      gap: 12px;\n",
              "    }\n",
              "\n",
              "    .colab-df-convert {\n",
              "      background-color: #E8F0FE;\n",
              "      border: none;\n",
              "      border-radius: 50%;\n",
              "      cursor: pointer;\n",
              "      display: none;\n",
              "      fill: #1967D2;\n",
              "      height: 32px;\n",
              "      padding: 0 0 0 0;\n",
              "      width: 32px;\n",
              "    }\n",
              "\n",
              "    .colab-df-convert:hover {\n",
              "      background-color: #E2EBFA;\n",
              "      box-shadow: 0px 1px 2px rgba(60, 64, 67, 0.3), 0px 1px 3px 1px rgba(60, 64, 67, 0.15);\n",
              "      fill: #174EA6;\n",
              "    }\n",
              "\n",
              "    [theme=dark] .colab-df-convert {\n",
              "      background-color: #3B4455;\n",
              "      fill: #D2E3FC;\n",
              "    }\n",
              "\n",
              "    [theme=dark] .colab-df-convert:hover {\n",
              "      background-color: #434B5C;\n",
              "      box-shadow: 0px 1px 3px 1px rgba(0, 0, 0, 0.15);\n",
              "      filter: drop-shadow(0px 1px 2px rgba(0, 0, 0, 0.3));\n",
              "      fill: #FFFFFF;\n",
              "    }\n",
              "  </style>\n",
              "\n",
              "      <script>\n",
              "        const buttonEl =\n",
              "          document.querySelector('#df-05072950-f0aa-4644-8485-d0c08eb6f9f4 button.colab-df-convert');\n",
              "        buttonEl.style.display =\n",
              "          google.colab.kernel.accessAllowed ? 'block' : 'none';\n",
              "\n",
              "        async function convertToInteractive(key) {\n",
              "          const element = document.querySelector('#df-05072950-f0aa-4644-8485-d0c08eb6f9f4');\n",
              "          const dataTable =\n",
              "            await google.colab.kernel.invokeFunction('convertToInteractive',\n",
              "                                                     [key], {});\n",
              "          if (!dataTable) return;\n",
              "\n",
              "          const docLinkHtml = 'Like what you see? Visit the ' +\n",
              "            '<a target=\"_blank\" href=https://colab.research.google.com/notebooks/data_table.ipynb>data table notebook</a>'\n",
              "            + ' to learn more about interactive tables.';\n",
              "          element.innerHTML = '';\n",
              "          dataTable['output_type'] = 'display_data';\n",
              "          await google.colab.output.renderOutput(dataTable, element);\n",
              "          const docLink = document.createElement('div');\n",
              "          docLink.innerHTML = docLinkHtml;\n",
              "          element.appendChild(docLink);\n",
              "        }\n",
              "      </script>\n",
              "    </div>\n",
              "  </div>\n",
              "  "
            ]
          },
          "metadata": {},
          "execution_count": 154
        }
      ]
    },
    {
      "cell_type": "code",
      "source": [
        "df.columns"
      ],
      "metadata": {
        "colab": {
          "base_uri": "https://localhost:8080/"
        },
        "id": "35zgJG_YfAaC",
        "outputId": "e1c2d22a-182b-4141-97a7-901f7319738b"
      },
      "execution_count": null,
      "outputs": [
        {
          "output_type": "execute_result",
          "data": {
            "text/plain": [
              "RangeIndex(start=0, stop=341, step=1)"
            ]
          },
          "metadata": {},
          "execution_count": 95
        }
      ]
    },
    {
      "cell_type": "code",
      "source": [
        "df.corr()"
      ],
      "metadata": {
        "colab": {
          "base_uri": "https://localhost:8080/",
          "height": 488
        },
        "id": "wUT4gqXzTLHH",
        "outputId": "e9a509a7-790f-431a-b45f-eefe40b8d187"
      },
      "execution_count": null,
      "outputs": [
        {
          "output_type": "execute_result",
          "data": {
            "text/plain": [
              "          0         1         2         3         4         5         6    \\\n",
              "0    1.000000  0.995827  0.989745  0.990718  0.991646  0.996410  0.989407   \n",
              "1    0.995827  1.000000  0.998592  0.998921  0.998947  0.999274  0.976752   \n",
              "2    0.989745  0.998592  1.000000  0.999962  0.999676  0.997413  0.966261   \n",
              "3    0.990718  0.998921  0.999962  1.000000  0.999800  0.997884  0.967925   \n",
              "4    0.991646  0.998947  0.999676  0.999800  1.000000  0.998428  0.970090   \n",
              "..        ...       ...       ...       ...       ...       ...       ...   \n",
              "336  0.739245  0.694541  0.662079  0.666389  0.665108  0.697107  0.779170   \n",
              "337  0.451893  0.401865  0.367799  0.371957  0.371112  0.404707  0.498872   \n",
              "338  0.344416  0.306527  0.281066  0.284027  0.284018  0.309444  0.380902   \n",
              "339  0.802909  0.773106  0.749926  0.753099  0.752257  0.774763  0.823692   \n",
              "340  0.764873  0.724579  0.694631  0.698818  0.697855  0.727134  0.797137   \n",
              "\n",
              "          7         8         9    ...       331       332       333  \\\n",
              "0    0.966538  0.925778  0.948739  ...  0.198764  0.234521  0.296122   \n",
              "1    0.948178  0.893797  0.924848  ...  0.152743  0.198749  0.275213   \n",
              "2    0.934610  0.872234  0.907854  ...  0.122193  0.174416  0.260062   \n",
              "3    0.936659  0.875473  0.910293  ...  0.125532  0.177323  0.261841   \n",
              "4    0.939352  0.879318  0.913754  ...  0.125115  0.176308  0.260805   \n",
              "..        ...       ...       ...  ...       ...       ...       ...   \n",
              "336  0.799576  0.854607  0.804556  ...  0.616742  0.582989  0.489043   \n",
              "337  0.526611  0.601276  0.543972  ...  0.681183  0.611071  0.473888   \n",
              "338  0.394077  0.446030  0.415201  ...  0.654302  0.421542  0.331543   \n",
              "339  0.824472  0.847767  0.826463  ...  0.546934  0.431671  0.394977   \n",
              "340  0.806847  0.856553  0.816279  ...  0.575740  0.489898  0.426404   \n",
              "\n",
              "          334       335       336       337       338       339       340  \n",
              "0    0.339739  0.728349  0.739245  0.451893  0.344416  0.802909  0.764873  \n",
              "1    0.319191  0.692378  0.694541  0.401865  0.306527  0.773106  0.724579  \n",
              "2    0.304486  0.665547  0.662079  0.367799  0.281066  0.749926  0.694631  \n",
              "3    0.306164  0.669061  0.666389  0.371957  0.284027  0.753099  0.698818  \n",
              "4    0.305849  0.667909  0.665108  0.371112  0.284018  0.752257  0.697855  \n",
              "..        ...       ...       ...       ...       ...       ...       ...  \n",
              "336  0.523907  0.927095  1.000000  0.879886  0.653604  0.898107  0.952643  \n",
              "337  0.550718  0.803648  0.879886  1.000000  0.796453  0.770084  0.826248  \n",
              "338  0.392912  0.586419  0.653604  0.796453  1.000000  0.785791  0.723741  \n",
              "339  0.445581  0.836013  0.898107  0.770084  0.785791  1.000000  0.966675  \n",
              "340  0.469019  0.874515  0.952643  0.826248  0.723741  0.966675  1.000000  \n",
              "\n",
              "[341 rows x 341 columns]"
            ],
            "text/html": [
              "\n",
              "  <div id=\"df-7eb51404-2995-4e9e-992b-a3bb121199a6\">\n",
              "    <div class=\"colab-df-container\">\n",
              "      <div>\n",
              "<style scoped>\n",
              "    .dataframe tbody tr th:only-of-type {\n",
              "        vertical-align: middle;\n",
              "    }\n",
              "\n",
              "    .dataframe tbody tr th {\n",
              "        vertical-align: top;\n",
              "    }\n",
              "\n",
              "    .dataframe thead th {\n",
              "        text-align: right;\n",
              "    }\n",
              "</style>\n",
              "<table border=\"1\" class=\"dataframe\">\n",
              "  <thead>\n",
              "    <tr style=\"text-align: right;\">\n",
              "      <th></th>\n",
              "      <th>0</th>\n",
              "      <th>1</th>\n",
              "      <th>2</th>\n",
              "      <th>3</th>\n",
              "      <th>4</th>\n",
              "      <th>5</th>\n",
              "      <th>6</th>\n",
              "      <th>7</th>\n",
              "      <th>8</th>\n",
              "      <th>9</th>\n",
              "      <th>...</th>\n",
              "      <th>331</th>\n",
              "      <th>332</th>\n",
              "      <th>333</th>\n",
              "      <th>334</th>\n",
              "      <th>335</th>\n",
              "      <th>336</th>\n",
              "      <th>337</th>\n",
              "      <th>338</th>\n",
              "      <th>339</th>\n",
              "      <th>340</th>\n",
              "    </tr>\n",
              "  </thead>\n",
              "  <tbody>\n",
              "    <tr>\n",
              "      <th>0</th>\n",
              "      <td>1.000000</td>\n",
              "      <td>0.995827</td>\n",
              "      <td>0.989745</td>\n",
              "      <td>0.990718</td>\n",
              "      <td>0.991646</td>\n",
              "      <td>0.996410</td>\n",
              "      <td>0.989407</td>\n",
              "      <td>0.966538</td>\n",
              "      <td>0.925778</td>\n",
              "      <td>0.948739</td>\n",
              "      <td>...</td>\n",
              "      <td>0.198764</td>\n",
              "      <td>0.234521</td>\n",
              "      <td>0.296122</td>\n",
              "      <td>0.339739</td>\n",
              "      <td>0.728349</td>\n",
              "      <td>0.739245</td>\n",
              "      <td>0.451893</td>\n",
              "      <td>0.344416</td>\n",
              "      <td>0.802909</td>\n",
              "      <td>0.764873</td>\n",
              "    </tr>\n",
              "    <tr>\n",
              "      <th>1</th>\n",
              "      <td>0.995827</td>\n",
              "      <td>1.000000</td>\n",
              "      <td>0.998592</td>\n",
              "      <td>0.998921</td>\n",
              "      <td>0.998947</td>\n",
              "      <td>0.999274</td>\n",
              "      <td>0.976752</td>\n",
              "      <td>0.948178</td>\n",
              "      <td>0.893797</td>\n",
              "      <td>0.924848</td>\n",
              "      <td>...</td>\n",
              "      <td>0.152743</td>\n",
              "      <td>0.198749</td>\n",
              "      <td>0.275213</td>\n",
              "      <td>0.319191</td>\n",
              "      <td>0.692378</td>\n",
              "      <td>0.694541</td>\n",
              "      <td>0.401865</td>\n",
              "      <td>0.306527</td>\n",
              "      <td>0.773106</td>\n",
              "      <td>0.724579</td>\n",
              "    </tr>\n",
              "    <tr>\n",
              "      <th>2</th>\n",
              "      <td>0.989745</td>\n",
              "      <td>0.998592</td>\n",
              "      <td>1.000000</td>\n",
              "      <td>0.999962</td>\n",
              "      <td>0.999676</td>\n",
              "      <td>0.997413</td>\n",
              "      <td>0.966261</td>\n",
              "      <td>0.934610</td>\n",
              "      <td>0.872234</td>\n",
              "      <td>0.907854</td>\n",
              "      <td>...</td>\n",
              "      <td>0.122193</td>\n",
              "      <td>0.174416</td>\n",
              "      <td>0.260062</td>\n",
              "      <td>0.304486</td>\n",
              "      <td>0.665547</td>\n",
              "      <td>0.662079</td>\n",
              "      <td>0.367799</td>\n",
              "      <td>0.281066</td>\n",
              "      <td>0.749926</td>\n",
              "      <td>0.694631</td>\n",
              "    </tr>\n",
              "    <tr>\n",
              "      <th>3</th>\n",
              "      <td>0.990718</td>\n",
              "      <td>0.998921</td>\n",
              "      <td>0.999962</td>\n",
              "      <td>1.000000</td>\n",
              "      <td>0.999800</td>\n",
              "      <td>0.997884</td>\n",
              "      <td>0.967925</td>\n",
              "      <td>0.936659</td>\n",
              "      <td>0.875473</td>\n",
              "      <td>0.910293</td>\n",
              "      <td>...</td>\n",
              "      <td>0.125532</td>\n",
              "      <td>0.177323</td>\n",
              "      <td>0.261841</td>\n",
              "      <td>0.306164</td>\n",
              "      <td>0.669061</td>\n",
              "      <td>0.666389</td>\n",
              "      <td>0.371957</td>\n",
              "      <td>0.284027</td>\n",
              "      <td>0.753099</td>\n",
              "      <td>0.698818</td>\n",
              "    </tr>\n",
              "    <tr>\n",
              "      <th>4</th>\n",
              "      <td>0.991646</td>\n",
              "      <td>0.998947</td>\n",
              "      <td>0.999676</td>\n",
              "      <td>0.999800</td>\n",
              "      <td>1.000000</td>\n",
              "      <td>0.998428</td>\n",
              "      <td>0.970090</td>\n",
              "      <td>0.939352</td>\n",
              "      <td>0.879318</td>\n",
              "      <td>0.913754</td>\n",
              "      <td>...</td>\n",
              "      <td>0.125115</td>\n",
              "      <td>0.176308</td>\n",
              "      <td>0.260805</td>\n",
              "      <td>0.305849</td>\n",
              "      <td>0.667909</td>\n",
              "      <td>0.665108</td>\n",
              "      <td>0.371112</td>\n",
              "      <td>0.284018</td>\n",
              "      <td>0.752257</td>\n",
              "      <td>0.697855</td>\n",
              "    </tr>\n",
              "    <tr>\n",
              "      <th>...</th>\n",
              "      <td>...</td>\n",
              "      <td>...</td>\n",
              "      <td>...</td>\n",
              "      <td>...</td>\n",
              "      <td>...</td>\n",
              "      <td>...</td>\n",
              "      <td>...</td>\n",
              "      <td>...</td>\n",
              "      <td>...</td>\n",
              "      <td>...</td>\n",
              "      <td>...</td>\n",
              "      <td>...</td>\n",
              "      <td>...</td>\n",
              "      <td>...</td>\n",
              "      <td>...</td>\n",
              "      <td>...</td>\n",
              "      <td>...</td>\n",
              "      <td>...</td>\n",
              "      <td>...</td>\n",
              "      <td>...</td>\n",
              "      <td>...</td>\n",
              "    </tr>\n",
              "    <tr>\n",
              "      <th>336</th>\n",
              "      <td>0.739245</td>\n",
              "      <td>0.694541</td>\n",
              "      <td>0.662079</td>\n",
              "      <td>0.666389</td>\n",
              "      <td>0.665108</td>\n",
              "      <td>0.697107</td>\n",
              "      <td>0.779170</td>\n",
              "      <td>0.799576</td>\n",
              "      <td>0.854607</td>\n",
              "      <td>0.804556</td>\n",
              "      <td>...</td>\n",
              "      <td>0.616742</td>\n",
              "      <td>0.582989</td>\n",
              "      <td>0.489043</td>\n",
              "      <td>0.523907</td>\n",
              "      <td>0.927095</td>\n",
              "      <td>1.000000</td>\n",
              "      <td>0.879886</td>\n",
              "      <td>0.653604</td>\n",
              "      <td>0.898107</td>\n",
              "      <td>0.952643</td>\n",
              "    </tr>\n",
              "    <tr>\n",
              "      <th>337</th>\n",
              "      <td>0.451893</td>\n",
              "      <td>0.401865</td>\n",
              "      <td>0.367799</td>\n",
              "      <td>0.371957</td>\n",
              "      <td>0.371112</td>\n",
              "      <td>0.404707</td>\n",
              "      <td>0.498872</td>\n",
              "      <td>0.526611</td>\n",
              "      <td>0.601276</td>\n",
              "      <td>0.543972</td>\n",
              "      <td>...</td>\n",
              "      <td>0.681183</td>\n",
              "      <td>0.611071</td>\n",
              "      <td>0.473888</td>\n",
              "      <td>0.550718</td>\n",
              "      <td>0.803648</td>\n",
              "      <td>0.879886</td>\n",
              "      <td>1.000000</td>\n",
              "      <td>0.796453</td>\n",
              "      <td>0.770084</td>\n",
              "      <td>0.826248</td>\n",
              "    </tr>\n",
              "    <tr>\n",
              "      <th>338</th>\n",
              "      <td>0.344416</td>\n",
              "      <td>0.306527</td>\n",
              "      <td>0.281066</td>\n",
              "      <td>0.284027</td>\n",
              "      <td>0.284018</td>\n",
              "      <td>0.309444</td>\n",
              "      <td>0.380902</td>\n",
              "      <td>0.394077</td>\n",
              "      <td>0.446030</td>\n",
              "      <td>0.415201</td>\n",
              "      <td>...</td>\n",
              "      <td>0.654302</td>\n",
              "      <td>0.421542</td>\n",
              "      <td>0.331543</td>\n",
              "      <td>0.392912</td>\n",
              "      <td>0.586419</td>\n",
              "      <td>0.653604</td>\n",
              "      <td>0.796453</td>\n",
              "      <td>1.000000</td>\n",
              "      <td>0.785791</td>\n",
              "      <td>0.723741</td>\n",
              "    </tr>\n",
              "    <tr>\n",
              "      <th>339</th>\n",
              "      <td>0.802909</td>\n",
              "      <td>0.773106</td>\n",
              "      <td>0.749926</td>\n",
              "      <td>0.753099</td>\n",
              "      <td>0.752257</td>\n",
              "      <td>0.774763</td>\n",
              "      <td>0.823692</td>\n",
              "      <td>0.824472</td>\n",
              "      <td>0.847767</td>\n",
              "      <td>0.826463</td>\n",
              "      <td>...</td>\n",
              "      <td>0.546934</td>\n",
              "      <td>0.431671</td>\n",
              "      <td>0.394977</td>\n",
              "      <td>0.445581</td>\n",
              "      <td>0.836013</td>\n",
              "      <td>0.898107</td>\n",
              "      <td>0.770084</td>\n",
              "      <td>0.785791</td>\n",
              "      <td>1.000000</td>\n",
              "      <td>0.966675</td>\n",
              "    </tr>\n",
              "    <tr>\n",
              "      <th>340</th>\n",
              "      <td>0.764873</td>\n",
              "      <td>0.724579</td>\n",
              "      <td>0.694631</td>\n",
              "      <td>0.698818</td>\n",
              "      <td>0.697855</td>\n",
              "      <td>0.727134</td>\n",
              "      <td>0.797137</td>\n",
              "      <td>0.806847</td>\n",
              "      <td>0.856553</td>\n",
              "      <td>0.816279</td>\n",
              "      <td>...</td>\n",
              "      <td>0.575740</td>\n",
              "      <td>0.489898</td>\n",
              "      <td>0.426404</td>\n",
              "      <td>0.469019</td>\n",
              "      <td>0.874515</td>\n",
              "      <td>0.952643</td>\n",
              "      <td>0.826248</td>\n",
              "      <td>0.723741</td>\n",
              "      <td>0.966675</td>\n",
              "      <td>1.000000</td>\n",
              "    </tr>\n",
              "  </tbody>\n",
              "</table>\n",
              "<p>341 rows × 341 columns</p>\n",
              "</div>\n",
              "      <button class=\"colab-df-convert\" onclick=\"convertToInteractive('df-7eb51404-2995-4e9e-992b-a3bb121199a6')\"\n",
              "              title=\"Convert this dataframe to an interactive table.\"\n",
              "              style=\"display:none;\">\n",
              "        \n",
              "  <svg xmlns=\"http://www.w3.org/2000/svg\" height=\"24px\"viewBox=\"0 0 24 24\"\n",
              "       width=\"24px\">\n",
              "    <path d=\"M0 0h24v24H0V0z\" fill=\"none\"/>\n",
              "    <path d=\"M18.56 5.44l.94 2.06.94-2.06 2.06-.94-2.06-.94-.94-2.06-.94 2.06-2.06.94zm-11 1L8.5 8.5l.94-2.06 2.06-.94-2.06-.94L8.5 2.5l-.94 2.06-2.06.94zm10 10l.94 2.06.94-2.06 2.06-.94-2.06-.94-.94-2.06-.94 2.06-2.06.94z\"/><path d=\"M17.41 7.96l-1.37-1.37c-.4-.4-.92-.59-1.43-.59-.52 0-1.04.2-1.43.59L10.3 9.45l-7.72 7.72c-.78.78-.78 2.05 0 2.83L4 21.41c.39.39.9.59 1.41.59.51 0 1.02-.2 1.41-.59l7.78-7.78 2.81-2.81c.8-.78.8-2.07 0-2.86zM5.41 20L4 18.59l7.72-7.72 1.47 1.35L5.41 20z\"/>\n",
              "  </svg>\n",
              "      </button>\n",
              "      \n",
              "  <style>\n",
              "    .colab-df-container {\n",
              "      display:flex;\n",
              "      flex-wrap:wrap;\n",
              "      gap: 12px;\n",
              "    }\n",
              "\n",
              "    .colab-df-convert {\n",
              "      background-color: #E8F0FE;\n",
              "      border: none;\n",
              "      border-radius: 50%;\n",
              "      cursor: pointer;\n",
              "      display: none;\n",
              "      fill: #1967D2;\n",
              "      height: 32px;\n",
              "      padding: 0 0 0 0;\n",
              "      width: 32px;\n",
              "    }\n",
              "\n",
              "    .colab-df-convert:hover {\n",
              "      background-color: #E2EBFA;\n",
              "      box-shadow: 0px 1px 2px rgba(60, 64, 67, 0.3), 0px 1px 3px 1px rgba(60, 64, 67, 0.15);\n",
              "      fill: #174EA6;\n",
              "    }\n",
              "\n",
              "    [theme=dark] .colab-df-convert {\n",
              "      background-color: #3B4455;\n",
              "      fill: #D2E3FC;\n",
              "    }\n",
              "\n",
              "    [theme=dark] .colab-df-convert:hover {\n",
              "      background-color: #434B5C;\n",
              "      box-shadow: 0px 1px 3px 1px rgba(0, 0, 0, 0.15);\n",
              "      filter: drop-shadow(0px 1px 2px rgba(0, 0, 0, 0.3));\n",
              "      fill: #FFFFFF;\n",
              "    }\n",
              "  </style>\n",
              "\n",
              "      <script>\n",
              "        const buttonEl =\n",
              "          document.querySelector('#df-7eb51404-2995-4e9e-992b-a3bb121199a6 button.colab-df-convert');\n",
              "        buttonEl.style.display =\n",
              "          google.colab.kernel.accessAllowed ? 'block' : 'none';\n",
              "\n",
              "        async function convertToInteractive(key) {\n",
              "          const element = document.querySelector('#df-7eb51404-2995-4e9e-992b-a3bb121199a6');\n",
              "          const dataTable =\n",
              "            await google.colab.kernel.invokeFunction('convertToInteractive',\n",
              "                                                     [key], {});\n",
              "          if (!dataTable) return;\n",
              "\n",
              "          const docLinkHtml = 'Like what you see? Visit the ' +\n",
              "            '<a target=\"_blank\" href=https://colab.research.google.com/notebooks/data_table.ipynb>data table notebook</a>'\n",
              "            + ' to learn more about interactive tables.';\n",
              "          element.innerHTML = '';\n",
              "          dataTable['output_type'] = 'display_data';\n",
              "          await google.colab.output.renderOutput(dataTable, element);\n",
              "          const docLink = document.createElement('div');\n",
              "          docLink.innerHTML = docLinkHtml;\n",
              "          element.appendChild(docLink);\n",
              "        }\n",
              "      </script>\n",
              "    </div>\n",
              "  </div>\n",
              "  "
            ]
          },
          "metadata": {},
          "execution_count": 96
        }
      ]
    },
    {
      "cell_type": "code",
      "source": [
        "import scipy\n",
        "\n",
        "freqs = np.fft.fftfreq(y.size)\n",
        "def describe_freq(freqs):\n",
        "    std = np.std(freqs) \n",
        "    iqr=scipy.stats.iqr(freqs)\n",
        "    return std,iqr \n",
        "  \n"
      ],
      "metadata": {
        "id": "q0zmFMriGkvE"
      },
      "execution_count": null,
      "outputs": []
    },
    {
      "cell_type": "code",
      "source": [
        "print(freqs)"
      ],
      "metadata": {
        "id": "di632OOGol7d",
        "outputId": "aeeb5fce-004e-42f3-acca-918adb592ac4",
        "colab": {
          "base_uri": "https://localhost:8080/"
        }
      },
      "execution_count": null,
      "outputs": [
        {
          "output_type": "stream",
          "name": "stdout",
          "text": [
            "[ 0.00000000e+00  1.12897399e-05  2.25794798e-05 ... -3.38692197e-05\n",
            " -2.25794798e-05 -1.12897399e-05]\n"
          ]
        }
      ]
    },
    {
      "cell_type": "code",
      "source": [
        "print()"
      ],
      "metadata": {
        "id": "UOQ-0xLiyEAC",
        "outputId": "8d2721a9-d8e2-4967-ba58-7055978656eb",
        "colab": {
          "base_uri": "https://localhost:8080/"
        }
      },
      "execution_count": null,
      "outputs": [
        {
          "output_type": "stream",
          "name": "stdout",
          "text": [
            "\n"
          ]
        }
      ]
    },
    {
      "cell_type": "code",
      "source": [
        "import librosa\n",
        "\n",
        "# Load audio file\n",
        "audio_file_path = 'recording4.wav'\n",
        "signal, sr = librosa.load(audio_file_path, sr=None)\n",
        "\n",
        "# Extract fundamental frequency\n",
        "f0, voiced_flag, voiced_probs = librosa.pyin(signal, fmin=librosa.note_to_hz('C2'), fmax=librosa.note_to_hz('C7'))\n",
        "\n",
        "# Print fundamental frequency\n",
        "print('Fundamental frequency:', f0)\n",
        "\n"
      ],
      "metadata": {
        "id": "RxXJ_Z3WLxzm",
        "outputId": "42dba0f1-7b61-4d4b-9cdd-2563a6d6d705",
        "colab": {
          "base_uri": "https://localhost:8080/"
        }
      },
      "execution_count": null,
      "outputs": [
        {
          "output_type": "stream",
          "name": "stdout",
          "text": [
            "Fundamental frequency: [        nan         nan 77.33375604 77.78174593 77.78174593 77.78174593\n",
            " 77.33375604 76.0052084  73.41619198 74.26924704 73.41619198 72.99334583\n",
            " 71.73936384 70.91536696 70.50692451 72.15494574 72.15494574 70.91536696\n",
            " 70.50692451 70.1008345  69.69708341 68.49972923 69.29565774 68.89654412\n",
            " 68.49972923 68.49972923 68.89654412 68.89654412 68.49972923 70.91536696\n",
            " 71.32617551 70.1008345  69.69708341 69.29565774 69.29565774 68.89654412\n",
            " 68.10519982 66.93519325 65.40639133 65.40639133 68.49972923 70.1008345\n",
            " 66.93519325 66.93519325 66.93519325 65.40639133 65.40639133 67.71294273\n",
            "         nan         nan         nan         nan         nan         nan\n",
            "         nan         nan         nan         nan         nan         nan\n",
            "         nan         nan         nan         nan         nan         nan\n",
            "         nan         nan         nan         nan         nan         nan\n",
            "         nan         nan         nan         nan         nan         nan\n",
            "         nan         nan         nan         nan         nan         nan\n",
            "         nan         nan         nan         nan         nan         nan\n",
            "         nan         nan         nan         nan         nan         nan\n",
            "         nan         nan         nan         nan         nan         nan\n",
            "         nan         nan         nan         nan         nan         nan\n",
            "         nan         nan         nan         nan         nan         nan\n",
            "         nan         nan         nan         nan         nan         nan\n",
            "         nan         nan         nan         nan         nan         nan\n",
            "         nan         nan         nan         nan         nan         nan\n",
            "         nan         nan         nan         nan         nan         nan\n",
            "         nan         nan         nan         nan         nan         nan\n",
            "         nan         nan         nan         nan         nan         nan\n",
            "         nan         nan         nan         nan         nan         nan\n",
            "         nan         nan         nan         nan         nan         nan\n",
            "         nan         nan         nan         nan         nan         nan\n",
            "         nan         nan         nan         nan         nan         nan\n",
            "         nan         nan         nan         nan         nan         nan\n",
            "         nan         nan         nan         nan         nan         nan\n",
            "         nan         nan         nan         nan         nan         nan\n",
            "         nan         nan         nan         nan         nan         nan\n",
            "         nan         nan         nan 66.16637698 65.40639133 67.32294488\n",
            " 73.41619198 75.56745061 75.13221412 75.56745061 76.88834638 77.78174593\n",
            " 78.232331   78.232331   78.68552628 79.1413469  79.59980806 79.59980806\n",
            " 79.1413469  78.232331   79.1413469  80.06092506 82.40688923 83.36441116\n",
            " 82.40688923 80.9911882  80.06092506 79.59980806 79.59980806 80.06092506\n",
            " 80.06092506 80.06092506 80.06092506 79.1413469  77.78174593 76.44550209\n",
            " 75.56745061 75.56745061 74.69948441 74.69948441 74.26924704 74.26924704\n",
            " 75.56745061 75.13221412 73.84148765 72.99334583 71.73936384 71.32617551\n",
            " 72.15494574 72.15494574 71.73936384 71.32617551 71.32617551 70.91536696\n",
            " 71.32617551 72.15494574 73.84148765 73.84148765 71.73936384 70.91536696\n",
            " 71.32617551 71.32617551 70.91536696 70.50692451 69.69708341 68.49972923\n",
            " 66.93519325 66.16637698 65.40639133 65.40639133 76.44550209 66.93519325\n",
            " 66.54967491 70.91536696 70.1008345  65.40639133         nan         nan\n",
            "         nan         nan         nan         nan         nan         nan\n",
            "         nan         nan         nan         nan         nan         nan\n",
            "         nan         nan         nan         nan         nan         nan\n",
            "         nan         nan         nan         nan         nan         nan\n",
            "         nan         nan         nan         nan         nan         nan\n",
            "         nan         nan         nan         nan         nan         nan\n",
            "         nan         nan         nan         nan         nan         nan\n",
            "         nan         nan         nan         nan         nan         nan\n",
            "         nan         nan         nan         nan         nan         nan\n",
            "         nan         nan         nan         nan         nan         nan\n",
            "         nan         nan         nan         nan         nan         nan\n",
            "         nan         nan         nan         nan         nan]\n"
          ]
        }
      ]
    },
    {
      "cell_type": "code",
      "source": [],
      "metadata": {
        "id": "k2LEwL7gWTYi"
      },
      "execution_count": null,
      "outputs": []
    },
    {
      "cell_type": "code",
      "source": [
        "dff=pd.DataFrame(f0)\n",
        "dff.head()"
      ],
      "metadata": {
        "id": "KcusNRE7O0GZ",
        "outputId": "06a92c44-3040-4eab-d268-1edbd658cb62",
        "colab": {
          "base_uri": "https://localhost:8080/",
          "height": 206
        }
      },
      "execution_count": null,
      "outputs": [
        {
          "output_type": "execute_result",
          "data": {
            "text/plain": [
              "           0\n",
              "0        NaN\n",
              "1        NaN\n",
              "2  77.333756\n",
              "3  77.781746\n",
              "4  77.781746"
            ],
            "text/html": [
              "\n",
              "  <div id=\"df-70656085-9176-41de-b99c-a789acfb4915\">\n",
              "    <div class=\"colab-df-container\">\n",
              "      <div>\n",
              "<style scoped>\n",
              "    .dataframe tbody tr th:only-of-type {\n",
              "        vertical-align: middle;\n",
              "    }\n",
              "\n",
              "    .dataframe tbody tr th {\n",
              "        vertical-align: top;\n",
              "    }\n",
              "\n",
              "    .dataframe thead th {\n",
              "        text-align: right;\n",
              "    }\n",
              "</style>\n",
              "<table border=\"1\" class=\"dataframe\">\n",
              "  <thead>\n",
              "    <tr style=\"text-align: right;\">\n",
              "      <th></th>\n",
              "      <th>0</th>\n",
              "    </tr>\n",
              "  </thead>\n",
              "  <tbody>\n",
              "    <tr>\n",
              "      <th>0</th>\n",
              "      <td>NaN</td>\n",
              "    </tr>\n",
              "    <tr>\n",
              "      <th>1</th>\n",
              "      <td>NaN</td>\n",
              "    </tr>\n",
              "    <tr>\n",
              "      <th>2</th>\n",
              "      <td>77.333756</td>\n",
              "    </tr>\n",
              "    <tr>\n",
              "      <th>3</th>\n",
              "      <td>77.781746</td>\n",
              "    </tr>\n",
              "    <tr>\n",
              "      <th>4</th>\n",
              "      <td>77.781746</td>\n",
              "    </tr>\n",
              "  </tbody>\n",
              "</table>\n",
              "</div>\n",
              "      <button class=\"colab-df-convert\" onclick=\"convertToInteractive('df-70656085-9176-41de-b99c-a789acfb4915')\"\n",
              "              title=\"Convert this dataframe to an interactive table.\"\n",
              "              style=\"display:none;\">\n",
              "        \n",
              "  <svg xmlns=\"http://www.w3.org/2000/svg\" height=\"24px\"viewBox=\"0 0 24 24\"\n",
              "       width=\"24px\">\n",
              "    <path d=\"M0 0h24v24H0V0z\" fill=\"none\"/>\n",
              "    <path d=\"M18.56 5.44l.94 2.06.94-2.06 2.06-.94-2.06-.94-.94-2.06-.94 2.06-2.06.94zm-11 1L8.5 8.5l.94-2.06 2.06-.94-2.06-.94L8.5 2.5l-.94 2.06-2.06.94zm10 10l.94 2.06.94-2.06 2.06-.94-2.06-.94-.94-2.06-.94 2.06-2.06.94z\"/><path d=\"M17.41 7.96l-1.37-1.37c-.4-.4-.92-.59-1.43-.59-.52 0-1.04.2-1.43.59L10.3 9.45l-7.72 7.72c-.78.78-.78 2.05 0 2.83L4 21.41c.39.39.9.59 1.41.59.51 0 1.02-.2 1.41-.59l7.78-7.78 2.81-2.81c.8-.78.8-2.07 0-2.86zM5.41 20L4 18.59l7.72-7.72 1.47 1.35L5.41 20z\"/>\n",
              "  </svg>\n",
              "      </button>\n",
              "      \n",
              "  <style>\n",
              "    .colab-df-container {\n",
              "      display:flex;\n",
              "      flex-wrap:wrap;\n",
              "      gap: 12px;\n",
              "    }\n",
              "\n",
              "    .colab-df-convert {\n",
              "      background-color: #E8F0FE;\n",
              "      border: none;\n",
              "      border-radius: 50%;\n",
              "      cursor: pointer;\n",
              "      display: none;\n",
              "      fill: #1967D2;\n",
              "      height: 32px;\n",
              "      padding: 0 0 0 0;\n",
              "      width: 32px;\n",
              "    }\n",
              "\n",
              "    .colab-df-convert:hover {\n",
              "      background-color: #E2EBFA;\n",
              "      box-shadow: 0px 1px 2px rgba(60, 64, 67, 0.3), 0px 1px 3px 1px rgba(60, 64, 67, 0.15);\n",
              "      fill: #174EA6;\n",
              "    }\n",
              "\n",
              "    [theme=dark] .colab-df-convert {\n",
              "      background-color: #3B4455;\n",
              "      fill: #D2E3FC;\n",
              "    }\n",
              "\n",
              "    [theme=dark] .colab-df-convert:hover {\n",
              "      background-color: #434B5C;\n",
              "      box-shadow: 0px 1px 3px 1px rgba(0, 0, 0, 0.15);\n",
              "      filter: drop-shadow(0px 1px 2px rgba(0, 0, 0, 0.3));\n",
              "      fill: #FFFFFF;\n",
              "    }\n",
              "  </style>\n",
              "\n",
              "      <script>\n",
              "        const buttonEl =\n",
              "          document.querySelector('#df-70656085-9176-41de-b99c-a789acfb4915 button.colab-df-convert');\n",
              "        buttonEl.style.display =\n",
              "          google.colab.kernel.accessAllowed ? 'block' : 'none';\n",
              "\n",
              "        async function convertToInteractive(key) {\n",
              "          const element = document.querySelector('#df-70656085-9176-41de-b99c-a789acfb4915');\n",
              "          const dataTable =\n",
              "            await google.colab.kernel.invokeFunction('convertToInteractive',\n",
              "                                                     [key], {});\n",
              "          if (!dataTable) return;\n",
              "\n",
              "          const docLinkHtml = 'Like what you see? Visit the ' +\n",
              "            '<a target=\"_blank\" href=https://colab.research.google.com/notebooks/data_table.ipynb>data table notebook</a>'\n",
              "            + ' to learn more about interactive tables.';\n",
              "          element.innerHTML = '';\n",
              "          dataTable['output_type'] = 'display_data';\n",
              "          await google.colab.output.renderOutput(dataTable, element);\n",
              "          const docLink = document.createElement('div');\n",
              "          docLink.innerHTML = docLinkHtml;\n",
              "          element.appendChild(docLink);\n",
              "        }\n",
              "      </script>\n",
              "    </div>\n",
              "  </div>\n",
              "  "
            ]
          },
          "metadata": {},
          "execution_count": 160
        }
      ]
    },
    {
      "cell_type": "code",
      "source": [
        "dff.isnull().sum()\n",
        "new_df = dff.fillna(72)\n",
        "new_df"
      ],
      "metadata": {
        "id": "1b6GExXAQ8f8",
        "outputId": "aa05c141-a98f-4f48-a5b9-2f6b28ceb420",
        "colab": {
          "base_uri": "https://localhost:8080/",
          "height": 424
        }
      },
      "execution_count": null,
      "outputs": [
        {
          "output_type": "execute_result",
          "data": {
            "text/plain": [
              "             0\n",
              "0    72.000000\n",
              "1    72.000000\n",
              "2    77.333756\n",
              "3    77.781746\n",
              "4    77.781746\n",
              "..         ...\n",
              "342  72.000000\n",
              "343  72.000000\n",
              "344  72.000000\n",
              "345  72.000000\n",
              "346  72.000000\n",
              "\n",
              "[347 rows x 1 columns]"
            ],
            "text/html": [
              "\n",
              "  <div id=\"df-711acba9-8d06-46c6-a2f0-df4f447a9320\">\n",
              "    <div class=\"colab-df-container\">\n",
              "      <div>\n",
              "<style scoped>\n",
              "    .dataframe tbody tr th:only-of-type {\n",
              "        vertical-align: middle;\n",
              "    }\n",
              "\n",
              "    .dataframe tbody tr th {\n",
              "        vertical-align: top;\n",
              "    }\n",
              "\n",
              "    .dataframe thead th {\n",
              "        text-align: right;\n",
              "    }\n",
              "</style>\n",
              "<table border=\"1\" class=\"dataframe\">\n",
              "  <thead>\n",
              "    <tr style=\"text-align: right;\">\n",
              "      <th></th>\n",
              "      <th>0</th>\n",
              "    </tr>\n",
              "  </thead>\n",
              "  <tbody>\n",
              "    <tr>\n",
              "      <th>0</th>\n",
              "      <td>72.000000</td>\n",
              "    </tr>\n",
              "    <tr>\n",
              "      <th>1</th>\n",
              "      <td>72.000000</td>\n",
              "    </tr>\n",
              "    <tr>\n",
              "      <th>2</th>\n",
              "      <td>77.333756</td>\n",
              "    </tr>\n",
              "    <tr>\n",
              "      <th>3</th>\n",
              "      <td>77.781746</td>\n",
              "    </tr>\n",
              "    <tr>\n",
              "      <th>4</th>\n",
              "      <td>77.781746</td>\n",
              "    </tr>\n",
              "    <tr>\n",
              "      <th>...</th>\n",
              "      <td>...</td>\n",
              "    </tr>\n",
              "    <tr>\n",
              "      <th>342</th>\n",
              "      <td>72.000000</td>\n",
              "    </tr>\n",
              "    <tr>\n",
              "      <th>343</th>\n",
              "      <td>72.000000</td>\n",
              "    </tr>\n",
              "    <tr>\n",
              "      <th>344</th>\n",
              "      <td>72.000000</td>\n",
              "    </tr>\n",
              "    <tr>\n",
              "      <th>345</th>\n",
              "      <td>72.000000</td>\n",
              "    </tr>\n",
              "    <tr>\n",
              "      <th>346</th>\n",
              "      <td>72.000000</td>\n",
              "    </tr>\n",
              "  </tbody>\n",
              "</table>\n",
              "<p>347 rows × 1 columns</p>\n",
              "</div>\n",
              "      <button class=\"colab-df-convert\" onclick=\"convertToInteractive('df-711acba9-8d06-46c6-a2f0-df4f447a9320')\"\n",
              "              title=\"Convert this dataframe to an interactive table.\"\n",
              "              style=\"display:none;\">\n",
              "        \n",
              "  <svg xmlns=\"http://www.w3.org/2000/svg\" height=\"24px\"viewBox=\"0 0 24 24\"\n",
              "       width=\"24px\">\n",
              "    <path d=\"M0 0h24v24H0V0z\" fill=\"none\"/>\n",
              "    <path d=\"M18.56 5.44l.94 2.06.94-2.06 2.06-.94-2.06-.94-.94-2.06-.94 2.06-2.06.94zm-11 1L8.5 8.5l.94-2.06 2.06-.94-2.06-.94L8.5 2.5l-.94 2.06-2.06.94zm10 10l.94 2.06.94-2.06 2.06-.94-2.06-.94-.94-2.06-.94 2.06-2.06.94z\"/><path d=\"M17.41 7.96l-1.37-1.37c-.4-.4-.92-.59-1.43-.59-.52 0-1.04.2-1.43.59L10.3 9.45l-7.72 7.72c-.78.78-.78 2.05 0 2.83L4 21.41c.39.39.9.59 1.41.59.51 0 1.02-.2 1.41-.59l7.78-7.78 2.81-2.81c.8-.78.8-2.07 0-2.86zM5.41 20L4 18.59l7.72-7.72 1.47 1.35L5.41 20z\"/>\n",
              "  </svg>\n",
              "      </button>\n",
              "      \n",
              "  <style>\n",
              "    .colab-df-container {\n",
              "      display:flex;\n",
              "      flex-wrap:wrap;\n",
              "      gap: 12px;\n",
              "    }\n",
              "\n",
              "    .colab-df-convert {\n",
              "      background-color: #E8F0FE;\n",
              "      border: none;\n",
              "      border-radius: 50%;\n",
              "      cursor: pointer;\n",
              "      display: none;\n",
              "      fill: #1967D2;\n",
              "      height: 32px;\n",
              "      padding: 0 0 0 0;\n",
              "      width: 32px;\n",
              "    }\n",
              "\n",
              "    .colab-df-convert:hover {\n",
              "      background-color: #E2EBFA;\n",
              "      box-shadow: 0px 1px 2px rgba(60, 64, 67, 0.3), 0px 1px 3px 1px rgba(60, 64, 67, 0.15);\n",
              "      fill: #174EA6;\n",
              "    }\n",
              "\n",
              "    [theme=dark] .colab-df-convert {\n",
              "      background-color: #3B4455;\n",
              "      fill: #D2E3FC;\n",
              "    }\n",
              "\n",
              "    [theme=dark] .colab-df-convert:hover {\n",
              "      background-color: #434B5C;\n",
              "      box-shadow: 0px 1px 3px 1px rgba(0, 0, 0, 0.15);\n",
              "      filter: drop-shadow(0px 1px 2px rgba(0, 0, 0, 0.3));\n",
              "      fill: #FFFFFF;\n",
              "    }\n",
              "  </style>\n",
              "\n",
              "      <script>\n",
              "        const buttonEl =\n",
              "          document.querySelector('#df-711acba9-8d06-46c6-a2f0-df4f447a9320 button.colab-df-convert');\n",
              "        buttonEl.style.display =\n",
              "          google.colab.kernel.accessAllowed ? 'block' : 'none';\n",
              "\n",
              "        async function convertToInteractive(key) {\n",
              "          const element = document.querySelector('#df-711acba9-8d06-46c6-a2f0-df4f447a9320');\n",
              "          const dataTable =\n",
              "            await google.colab.kernel.invokeFunction('convertToInteractive',\n",
              "                                                     [key], {});\n",
              "          if (!dataTable) return;\n",
              "\n",
              "          const docLinkHtml = 'Like what you see? Visit the ' +\n",
              "            '<a target=\"_blank\" href=https://colab.research.google.com/notebooks/data_table.ipynb>data table notebook</a>'\n",
              "            + ' to learn more about interactive tables.';\n",
              "          element.innerHTML = '';\n",
              "          dataTable['output_type'] = 'display_data';\n",
              "          await google.colab.output.renderOutput(dataTable, element);\n",
              "          const docLink = document.createElement('div');\n",
              "          docLink.innerHTML = docLinkHtml;\n",
              "          element.appendChild(docLink);\n",
              "        }\n",
              "      </script>\n",
              "    </div>\n",
              "  </div>\n",
              "  "
            ]
          },
          "metadata": {},
          "execution_count": 162
        }
      ]
    },
    {
      "cell_type": "code",
      "source": [
        "dff.mean()\n"
      ],
      "metadata": {
        "id": "_WjFZy_NRPlG",
        "outputId": "e0c465dc-7f18-48f1-d701-fc491ba1c119",
        "colab": {
          "base_uri": "https://localhost:8080/"
        }
      },
      "execution_count": null,
      "outputs": [
        {
          "output_type": "execute_result",
          "data": {
            "text/plain": [
              "0    72.782409\n",
              "dtype: float64"
            ]
          },
          "metadata": {},
          "execution_count": 161
        }
      ]
    },
    {
      "cell_type": "code",
      "source": [
        "mean = dff.mean() \n",
        "print(mean)\n",
        "min = dff.min()\n",
        "print(min)\n",
        "max = dff.max()\n",
        "print(max)"
      ],
      "metadata": {
        "id": "NtrIadIZNCIL",
        "outputId": "a7d0cca1-5887-47b6-821f-9270380afab0",
        "colab": {
          "base_uri": "https://localhost:8080/"
        }
      },
      "execution_count": null,
      "outputs": [
        {
          "output_type": "stream",
          "name": "stdout",
          "text": [
            "0    72.782409\n",
            "dtype: float64\n",
            "0    65.406391\n",
            "dtype: float64\n",
            "0    83.364411\n",
            "dtype: float64\n"
          ]
        }
      ]
    },
    {
      "cell_type": "code",
      "source": [
        "s , i = describe_freq(freqs)\n",
        "pred = model.predict( [[mean , min , max , s , i]])\n",
        "print( pred )"
      ],
      "metadata": {
        "id": "jexk0Dp7Z2or",
        "outputId": "02b26576-ab99-44d2-9d4c-7a990b865005",
        "colab": {
          "base_uri": "https://localhost:8080/"
        }
      },
      "execution_count": null,
      "outputs": [
        {
          "output_type": "stream",
          "name": "stdout",
          "text": [
            "[0]\n"
          ]
        }
      ]
    },
    {
      "cell_type": "code",
      "source": [
        "model= joblib.load(\"ML.joblib\")\n"
      ],
      "metadata": {
        "id": "MevCdmeYYOul"
      },
      "execution_count": null,
      "outputs": []
    }
  ]
}